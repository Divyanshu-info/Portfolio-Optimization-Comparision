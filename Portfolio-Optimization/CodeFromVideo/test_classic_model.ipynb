{
 "cells": [
  {
   "cell_type": "code",
   "execution_count": 11,
   "metadata": {},
   "outputs": [
    {
     "name": "stdout",
     "output_type": "stream",
     "text": [
      "Defaulting to user installation because normal site-packages is not writeable\n",
      "Requirement already satisfied: PyPortfolioOpt in /home/codespace/.local/lib/python3.8/site-packages (1.5.3)\n",
      "Requirement already satisfied: pandas_datareader in /home/codespace/.local/lib/python3.8/site-packages (0.10.0)\n",
      "Requirement already satisfied: plotly in /home/codespace/.local/lib/python3.8/site-packages (5.10.0)\n",
      "Requirement already satisfied: absl-py in /home/codespace/.local/lib/python3.8/site-packages (1.2.0)\n",
      "Requirement already satisfied: pandas>=0.19 in /home/codespace/.local/lib/python3.8/site-packages (from PyPortfolioOpt) (1.4.4)\n",
      "Requirement already satisfied: cvxpy<2.0.0,>=1.1.10 in /home/codespace/.local/lib/python3.8/site-packages (from PyPortfolioOpt) (1.2.1)\n",
      "Requirement already satisfied: numpy<2.0.0,>=1.22.4 in /home/codespace/.local/lib/python3.8/site-packages (from PyPortfolioOpt) (1.23.2)\n",
      "Requirement already satisfied: scipy<2.0,>=1.3 in /home/codespace/.local/lib/python3.8/site-packages (from PyPortfolioOpt) (1.9.1)\n",
      "Requirement already satisfied: requests>=2.19.0 in /home/codespace/.local/lib/python3.8/site-packages (from pandas_datareader) (2.28.1)\n",
      "Requirement already satisfied: lxml in /home/codespace/.local/lib/python3.8/site-packages (from pandas_datareader) (4.9.1)\n",
      "Requirement already satisfied: tenacity>=6.2.0 in /home/codespace/.local/lib/python3.8/site-packages (from plotly) (8.0.1)\n",
      "Requirement already satisfied: ecos>=2 in /home/codespace/.local/lib/python3.8/site-packages (from cvxpy<2.0.0,>=1.1.10->PyPortfolioOpt) (2.0.10)\n",
      "Requirement already satisfied: osqp>=0.4.1 in /home/codespace/.local/lib/python3.8/site-packages (from cvxpy<2.0.0,>=1.1.10->PyPortfolioOpt) (0.6.2.post5)\n",
      "Requirement already satisfied: scs>=1.1.6 in /home/codespace/.local/lib/python3.8/site-packages (from cvxpy<2.0.0,>=1.1.10->PyPortfolioOpt) (3.2.0)\n",
      "Requirement already satisfied: pytz>=2020.1 in /home/codespace/.local/lib/python3.8/site-packages (from pandas>=0.19->PyPortfolioOpt) (2022.2.1)\n",
      "Requirement already satisfied: python-dateutil>=2.8.1 in /home/codespace/.local/lib/python3.8/site-packages (from pandas>=0.19->PyPortfolioOpt) (2.8.2)\n",
      "Requirement already satisfied: charset-normalizer<3,>=2 in /home/codespace/.local/lib/python3.8/site-packages (from requests>=2.19.0->pandas_datareader) (2.1.1)\n",
      "Requirement already satisfied: urllib3<1.27,>=1.21.1 in /usr/lib/python3/dist-packages (from requests>=2.19.0->pandas_datareader) (1.25.8)\n",
      "Requirement already satisfied: certifi>=2017.4.17 in /usr/lib/python3/dist-packages (from requests>=2.19.0->pandas_datareader) (2019.11.28)\n",
      "Requirement already satisfied: idna<4,>=2.5 in /usr/lib/python3/dist-packages (from requests>=2.19.0->pandas_datareader) (2.8)\n",
      "Requirement already satisfied: qdldl in /home/codespace/.local/lib/python3.8/site-packages (from osqp>=0.4.1->cvxpy<2.0.0,>=1.1.10->PyPortfolioOpt) (0.1.5.post2)\n",
      "Requirement already satisfied: six>=1.5 in /usr/lib/python3/dist-packages (from python-dateutil>=2.8.1->pandas>=0.19->PyPortfolioOpt) (1.14.0)\n",
      "\u001b[33mWARNING: You are using pip version 22.0.4; however, version 22.2.2 is available.\n",
      "You should consider upgrading via the '/usr/bin/python3 -m pip install --upgrade pip' command.\u001b[0m\u001b[33m\n",
      "\u001b[0mNote: you may need to restart the kernel to use updated packages.\n"
     ]
    }
   ],
   "source": [
    "pip install PyPortfolioOpt pandas_datareader plotly absl-py\n"
   ]
  },
  {
   "cell_type": "code",
   "execution_count": 12,
   "metadata": {},
   "outputs": [],
   "source": [
    "import numpy as np\n",
    "import pandas as pd\n",
    "# setting the seed allows for reproducible results\n",
    "import backtrader as bt\n",
    "from pypfopt import EfficientFrontier\n",
    "from pypfopt import risk_models\n",
    "from pypfopt import expected_returns\n",
    "from pypfopt import CLA\n",
    "from pypfopt import black_litterman\n",
    "from pypfopt import BlackLittermanModel\n",
    "from pypfopt import HRPOpt\n",
    "from pypfopt import EfficientSemivariance\n",
    "from pandas_datareader import data as pdr\n",
    "from datetime import datetime\n",
    "from scipy.special import softmax\n",
    "import yfinance as yf\n",
    "\n",
    "#--------------\n",
    "\n",
    "#-------------\n",
    "\n",
    "import plotly.graph_objects as go\n",
    "\n",
    "float_formatter = \"{:.4f}\".format\n",
    "np.set_printoptions(formatter={'float_kind':float_formatter})\n",
    "\n",
    "np.random.seed(123)\n",
    "%matplotlib inline\n",
    "\n",
    "very_small_float = 1.0#0.000000001"
   ]
  },
  {
   "cell_type": "code",
   "execution_count": 13,
   "metadata": {},
   "outputs": [],
   "source": [
    "from bt_testcode import backtest, DynRebalance, get_name, plotAllocation, getStatistic, calc_portfolio_values\n",
    "from bt_testcode import plotPortfolioReturns, get_portfolio_values"
   ]
  },
  {
   "cell_type": "markdown",
   "metadata": {},
   "source": [
    "# Model definition"
   ]
  },
  {
   "cell_type": "code",
   "execution_count": 14,
   "metadata": {},
   "outputs": [],
   "source": [
    "from scipy import optimize \n",
    "\n",
    "def MaximizeSharpeRatioOptmzn(MeanReturns, CovarReturns, RiskFreeRate, PortfolioSize):\n",
    "    \n",
    "    # define maximization of Sharpe Ratio using principle of duality\n",
    "    def  f(x, MeanReturns, CovarReturns, RiskFreeRate, PortfolioSize):\n",
    "        funcDenomr = np.sqrt(np.matmul(np.matmul(x, CovarReturns), x.T) )\n",
    "        funcNumer = np.matmul(np.array(MeanReturns),x.T)-RiskFreeRate\n",
    "        func = -(funcNumer / funcDenomr)\n",
    "        #print(func)\n",
    "        return func\n",
    "\n",
    "    #define equality constraint representing fully invested portfolio\n",
    "    def constraintEq(x):\n",
    "        A=np.ones(x.shape)\n",
    "        b=1\n",
    "        constraintVal = np.matmul(A,x.T)-b \n",
    "        return constraintVal\n",
    "    \n",
    "    \n",
    "    #define bounds and other parameters\n",
    "    xinit=np.repeat(0.33, PortfolioSize)\n",
    "    cons = ({'type': 'eq', 'fun':constraintEq})\n",
    "    lb = 0\n",
    "    ub = 1\n",
    "    bnds = tuple([(lb,ub) for x in xinit])\n",
    "    \n",
    "    #print('xinit',xinit.shape)\n",
    "    #invoke minimize solver\n",
    "    opt = optimize.minimize (f, x0 = xinit, args = (MeanReturns, CovarReturns,\\\n",
    "                             RiskFreeRate, PortfolioSize), method = 'SLSQP',  \\\n",
    "                             bounds = bnds, constraints = cons, tol = 10**-3)\n",
    "    \n",
    "    return opt\n",
    "\n",
    "def get_weight(data, meanReturns, covReturns):\n",
    "    \n",
    "    #set portfolio size\n",
    "    portfolioSize = data.shape[1]\n",
    "\n",
    "    #set risk free asset rate of return\n",
    "    Rf=0  #  average risk  free rate of return in USA \n",
    "    annRiskFreeRate = Rf/100\n",
    "\n",
    "    #compute daily risk free rate in percentage\n",
    "    r0 = (np.power((1 + annRiskFreeRate),  (1.0 / 360.0)) - 1.0) * 100 \n",
    "    #print('\\nRisk free rate (daily %): ', end=\"\")\n",
    "    #print (\"{0:.3f}\".format(r0)) \n",
    "\n",
    "    #initialization\n",
    "    xOptimal =[]\n",
    "    minRiskPoint = []\n",
    "    expPortfolioReturnPoint =[]\n",
    "    maxSharpeRatio = 0\n",
    "\n",
    "    #compute maximal Sharpe Ratio and optimal weights\n",
    "    result = MaximizeSharpeRatioOptmzn(meanReturns, covReturns, r0, portfolioSize)\n",
    "    xOptimal.append(result.x)\n",
    "\n",
    "        \n",
    "    #compute risk returns and max Sharpe Ratio of the optimal portfolio   \n",
    "    xOptimalArray = np.array(xOptimal)\n",
    "    Risk = np.matmul((np.matmul(xOptimalArray,covReturns)), np.transpose(xOptimalArray))\n",
    "    expReturn = np.matmul(np.array(meanReturns),xOptimalArray.T)\n",
    "    annRisk =   np.sqrt(Risk*252) \n",
    "    annRet = 252*np.array(expReturn) \n",
    "    maxSharpeRatio = (annRet-Rf)/annRisk \n",
    "\n",
    "    #set precision for printing results\n",
    "    np.set_printoptions(precision=3, suppress = True)\n",
    "\n",
    "    return (xOptimalArray.T).flatten()"
   ]
  },
  {
   "cell_type": "code",
   "execution_count": 15,
   "metadata": {},
   "outputs": [],
   "source": [
    "class Model:\n",
    "    def __init__(self):\n",
    "        self.data = None\n",
    "        self.isFirst = True\n",
    "    \n",
    "    def getModel():\n",
    "        return None\n",
    "    \n",
    "    def resetModel():\n",
    "        self.data = None\n",
    "        self.isFirst = True\n",
    "        pass\n",
    "\n",
    "    # a nonconvex objective from  Kolm et al (2014)\n",
    "    def deviation_risk_parity(self, w, cov_matrix):\n",
    "        diff = w * np.dot(cov_matrix, w) - (w * np.dot(cov_matrix, w)).reshape(-1, 1)\n",
    "        return (diff ** 2).sum().sum()\n",
    "\n",
    "\n",
    "    #def get_allocations(self, data, model_n = 'MeanVariance', isEmsRet = False, isExpCov = False, isCleanWeight = False, upd_period = 0):\n",
    "    def get_allocations(self, data, **param):\n",
    "\n",
    "        data = pd.DataFrame(data)\n",
    "\n",
    "        model_n = param['model_n']\n",
    "        isEmsRet = param['isEmsRet']\n",
    "        isExpCov = param['isExpCov']\n",
    "        isCleanWeight = param['isCleanWeight']\n",
    "        upd_period = param['upd_period']\n",
    "        isDataCollecting = param['collectData']\n",
    "\n",
    "        \n",
    "\n",
    "\n",
    "        #data = data.fillna(0.0)\n",
    "        if(self.isFirst == True) or (upd_period == 0) or (isDataCollecting==False):\n",
    "            self.isFirst = False\n",
    "            self.data = data.copy()\n",
    "        else:\n",
    "            self.data = self.data.append(data.iloc[-upd_period:])\n",
    "\n",
    "       # print(data.iloc[-upd_period:])\n",
    "\n",
    "        mu = expected_returns.mean_historical_return(self.data).fillna(0.0).values\n",
    "        if isEmsRet == True:\n",
    "            mu = expected_returns.ema_historical_return(self.data).fillna(0.0).values\n",
    "    \n",
    "        S = risk_models.sample_cov(self.data).fillna(0.0).values\n",
    "        if isExpCov == True:    \n",
    "            S = risk_models.exp_cov(self.data).fillna(0.0).values\n",
    "        \n",
    "        if model_n == 'CLA':\n",
    "            ef = CLA(mu, S)\n",
    "            weights = ef.max_sharpe()\n",
    "            cleaned_weights = ef.clean_weights()\n",
    "            #hrp.portfolio_performance(verbose=True)\n",
    "            if isCleanWeight == True:\n",
    "                return pd.DataFrame(cleaned_weights, index=[0]).to_numpy()[0]\n",
    "            return pd.DataFrame(weights, index=[0]).to_numpy()[0]\n",
    "\n",
    "        elif model_n == 'HRP_':\n",
    "            hrp = HRPOpt(self.data.pct_change())\n",
    "            weights = hrp.optimize()\n",
    "            cleaned_weights = hrp.clean_weights()        \n",
    "            if isCleanWeight == True:\n",
    "                return pd.DataFrame(cleaned_weights, index=[0]).to_numpy()[0]\n",
    "            return pd.DataFrame(weights, index=[0]).to_numpy()[0]\n",
    "\n",
    "        elif model_n == 'HRP':\n",
    "            hrp = HRPOpt(self.data.pct_change(),S)\n",
    "            weights = hrp.optimize()\n",
    "            cleaned_weights = hrp.clean_weights()        \n",
    "            if isCleanWeight == True:\n",
    "                return pd.DataFrame(cleaned_weights, index=[0]).to_numpy()[0]\n",
    "            return pd.DataFrame(weights, index=[0]).to_numpy()[0]\n",
    "\n",
    "\n",
    "        elif model_n == 'nonconvex':\n",
    "            ef = EfficientFrontier(mu, S)\n",
    "            weights = ef.nonconvex_objective(self.deviation_risk_parity, ef.cov_matrix)\n",
    "            cleaned_weights = ef.clean_weights()        \n",
    "            if isCleanWeight == True:\n",
    "                return pd.DataFrame(cleaned_weights, index=[0]).to_numpy()[0]\n",
    "            return pd.DataFrame(weights, index=[0]).to_numpy()[0]\n",
    "\n",
    "        elif model_n == 'random':\n",
    "            a = np.random.uniform(size=[self.data.shape[1]])\n",
    "            return softmax(a)\n",
    "        elif model_n == 'equal_weight':\n",
    "            a = np.array([1/self.data.shape[1]]*self.data.shape[1])\n",
    "            return a\n",
    "        else:\n",
    "           # print('DEFAULT MODEL!')\n",
    "            return get_weight(self.data, mu, S)\n",
    "\n",
    "        return []"
   ]
  },
  {
   "cell_type": "code",
   "execution_count": 16,
   "metadata": {},
   "outputs": [
    {
     "name": "stdout",
     "output_type": "stream",
     "text": [
      "[*********************100%***********************]  10 of 10 completed\n"
     ]
    },
    {
     "data": {
      "text/html": [
       "<div>\n",
       "<style scoped>\n",
       "    .dataframe tbody tr th:only-of-type {\n",
       "        vertical-align: middle;\n",
       "    }\n",
       "\n",
       "    .dataframe tbody tr th {\n",
       "        vertical-align: top;\n",
       "    }\n",
       "\n",
       "    .dataframe thead th {\n",
       "        text-align: right;\n",
       "    }\n",
       "</style>\n",
       "<table border=\"1\" class=\"dataframe\">\n",
       "  <thead>\n",
       "    <tr style=\"text-align: right;\">\n",
       "      <th></th>\n",
       "      <th>AAPL</th>\n",
       "      <th>AEE</th>\n",
       "      <th>AIG</th>\n",
       "      <th>AMD</th>\n",
       "      <th>AMZN</th>\n",
       "      <th>BA</th>\n",
       "      <th>C</th>\n",
       "      <th>MO</th>\n",
       "      <th>MSFT</th>\n",
       "      <th>WY</th>\n",
       "    </tr>\n",
       "    <tr>\n",
       "      <th>Date</th>\n",
       "      <th></th>\n",
       "      <th></th>\n",
       "      <th></th>\n",
       "      <th></th>\n",
       "      <th></th>\n",
       "      <th></th>\n",
       "      <th></th>\n",
       "      <th></th>\n",
       "      <th></th>\n",
       "      <th></th>\n",
       "    </tr>\n",
       "  </thead>\n",
       "  <tbody>\n",
       "    <tr>\n",
       "      <th>2018-01-02</th>\n",
       "      <td>41.018421</td>\n",
       "      <td>51.728882</td>\n",
       "      <td>52.261723</td>\n",
       "      <td>10.98</td>\n",
       "      <td>59.450500</td>\n",
       "      <td>282.886383</td>\n",
       "      <td>64.162941</td>\n",
       "      <td>51.659672</td>\n",
       "      <td>81.168503</td>\n",
       "      <td>29.101162</td>\n",
       "    </tr>\n",
       "    <tr>\n",
       "      <th>2018-01-03</th>\n",
       "      <td>41.011288</td>\n",
       "      <td>51.463116</td>\n",
       "      <td>52.841434</td>\n",
       "      <td>11.55</td>\n",
       "      <td>60.209999</td>\n",
       "      <td>283.801270</td>\n",
       "      <td>64.361412</td>\n",
       "      <td>51.469810</td>\n",
       "      <td>81.546227</td>\n",
       "      <td>29.356726</td>\n",
       "    </tr>\n",
       "    <tr>\n",
       "      <th>2018-01-04</th>\n",
       "      <td>41.201778</td>\n",
       "      <td>50.878410</td>\n",
       "      <td>53.052235</td>\n",
       "      <td>12.12</td>\n",
       "      <td>60.479500</td>\n",
       "      <td>282.724396</td>\n",
       "      <td>65.155258</td>\n",
       "      <td>51.265324</td>\n",
       "      <td>82.263962</td>\n",
       "      <td>29.117657</td>\n",
       "    </tr>\n",
       "    <tr>\n",
       "      <th>2018-01-05</th>\n",
       "      <td>41.670872</td>\n",
       "      <td>50.842960</td>\n",
       "      <td>53.271820</td>\n",
       "      <td>11.88</td>\n",
       "      <td>61.457001</td>\n",
       "      <td>294.322327</td>\n",
       "      <td>65.068954</td>\n",
       "      <td>51.411388</td>\n",
       "      <td>83.283882</td>\n",
       "      <td>29.076426</td>\n",
       "    </tr>\n",
       "    <tr>\n",
       "      <th>2018-01-08</th>\n",
       "      <td>41.516102</td>\n",
       "      <td>51.445393</td>\n",
       "      <td>52.920475</td>\n",
       "      <td>12.28</td>\n",
       "      <td>62.343498</td>\n",
       "      <td>295.570709</td>\n",
       "      <td>64.309631</td>\n",
       "      <td>51.345650</td>\n",
       "      <td>83.368889</td>\n",
       "      <td>29.266043</td>\n",
       "    </tr>\n",
       "  </tbody>\n",
       "</table>\n",
       "</div>"
      ],
      "text/plain": [
       "                 AAPL        AEE        AIG    AMD       AMZN          BA  \\\n",
       "Date                                                                        \n",
       "2018-01-02  41.018421  51.728882  52.261723  10.98  59.450500  282.886383   \n",
       "2018-01-03  41.011288  51.463116  52.841434  11.55  60.209999  283.801270   \n",
       "2018-01-04  41.201778  50.878410  53.052235  12.12  60.479500  282.724396   \n",
       "2018-01-05  41.670872  50.842960  53.271820  11.88  61.457001  294.322327   \n",
       "2018-01-08  41.516102  51.445393  52.920475  12.28  62.343498  295.570709   \n",
       "\n",
       "                    C         MO       MSFT         WY  \n",
       "Date                                                    \n",
       "2018-01-02  64.162941  51.659672  81.168503  29.101162  \n",
       "2018-01-03  64.361412  51.469810  81.546227  29.356726  \n",
       "2018-01-04  65.155258  51.265324  82.263962  29.117657  \n",
       "2018-01-05  65.068954  51.411388  83.283882  29.076426  \n",
       "2018-01-08  64.309631  51.345650  83.368889  29.266043  "
      ]
     },
     "execution_count": 16,
     "metadata": {},
     "output_type": "execute_result"
    }
   ],
   "source": [
    "\n",
    "ticker = ['MSFT', 'AMD', 'C', 'BA', 'AMZN', 'AAPL','MO', 'AEE', 'AIG', 'WY']\n",
    "history_range = {'start': datetime(2018, 1, 1), \n",
    "                 'end': datetime(2020, 10, 1)}\n",
    "stock = pdr.DataReader(ticker, \n",
    "                start=history_range['start'],\n",
    "                end=history_range['end'],\n",
    "                data_source='yahoo')\n",
    "table = yf.download(ticker, start=history_range['start'],\n",
    "                    end=history_range['end'])['Adj Close']\n",
    "table.head()\n"
   ]
  },
  {
   "cell_type": "code",
   "execution_count": 17,
   "metadata": {},
   "outputs": [
    {
     "data": {
      "text/html": [
       "<div>\n",
       "<style scoped>\n",
       "    .dataframe tbody tr th:only-of-type {\n",
       "        vertical-align: middle;\n",
       "    }\n",
       "\n",
       "    .dataframe tbody tr th {\n",
       "        vertical-align: top;\n",
       "    }\n",
       "\n",
       "    .dataframe thead th {\n",
       "        text-align: right;\n",
       "    }\n",
       "</style>\n",
       "<table border=\"1\" class=\"dataframe\">\n",
       "  <thead>\n",
       "    <tr style=\"text-align: right;\">\n",
       "      <th>Symbols</th>\n",
       "      <th>MSFT</th>\n",
       "      <th>AMD</th>\n",
       "      <th>C</th>\n",
       "      <th>BA</th>\n",
       "      <th>AMZN</th>\n",
       "      <th>AAPL</th>\n",
       "      <th>MO</th>\n",
       "      <th>AEE</th>\n",
       "      <th>AIG</th>\n",
       "      <th>WY</th>\n",
       "    </tr>\n",
       "  </thead>\n",
       "  <tbody>\n",
       "    <tr>\n",
       "      <th>0</th>\n",
       "      <td>85.949997</td>\n",
       "      <td>10.98</td>\n",
       "      <td>74.360001</td>\n",
       "      <td>296.839996</td>\n",
       "      <td>59.450500</td>\n",
       "      <td>43.064999</td>\n",
       "      <td>70.739998</td>\n",
       "      <td>58.389999</td>\n",
       "      <td>59.500000</td>\n",
       "      <td>35.299999</td>\n",
       "    </tr>\n",
       "    <tr>\n",
       "      <th>1</th>\n",
       "      <td>86.349998</td>\n",
       "      <td>11.55</td>\n",
       "      <td>74.589996</td>\n",
       "      <td>297.799988</td>\n",
       "      <td>60.209999</td>\n",
       "      <td>43.057499</td>\n",
       "      <td>70.480003</td>\n",
       "      <td>58.090000</td>\n",
       "      <td>60.160000</td>\n",
       "      <td>35.610001</td>\n",
       "    </tr>\n",
       "    <tr>\n",
       "      <th>2</th>\n",
       "      <td>87.110001</td>\n",
       "      <td>12.12</td>\n",
       "      <td>75.510002</td>\n",
       "      <td>296.670013</td>\n",
       "      <td>60.479500</td>\n",
       "      <td>43.257500</td>\n",
       "      <td>70.199997</td>\n",
       "      <td>57.430000</td>\n",
       "      <td>60.400002</td>\n",
       "      <td>35.320000</td>\n",
       "    </tr>\n",
       "    <tr>\n",
       "      <th>3</th>\n",
       "      <td>88.190002</td>\n",
       "      <td>11.88</td>\n",
       "      <td>75.410004</td>\n",
       "      <td>308.839996</td>\n",
       "      <td>61.457001</td>\n",
       "      <td>43.750000</td>\n",
       "      <td>70.400002</td>\n",
       "      <td>57.389999</td>\n",
       "      <td>60.650002</td>\n",
       "      <td>35.270000</td>\n",
       "    </tr>\n",
       "    <tr>\n",
       "      <th>4</th>\n",
       "      <td>88.279999</td>\n",
       "      <td>12.28</td>\n",
       "      <td>74.529999</td>\n",
       "      <td>310.149994</td>\n",
       "      <td>62.343498</td>\n",
       "      <td>43.587502</td>\n",
       "      <td>70.309998</td>\n",
       "      <td>58.070000</td>\n",
       "      <td>60.250000</td>\n",
       "      <td>35.500000</td>\n",
       "    </tr>\n",
       "  </tbody>\n",
       "</table>\n",
       "</div>"
      ],
      "text/plain": [
       "Symbols       MSFT    AMD          C          BA       AMZN       AAPL  \\\n",
       "0        85.949997  10.98  74.360001  296.839996  59.450500  43.064999   \n",
       "1        86.349998  11.55  74.589996  297.799988  60.209999  43.057499   \n",
       "2        87.110001  12.12  75.510002  296.670013  60.479500  43.257500   \n",
       "3        88.190002  11.88  75.410004  308.839996  61.457001  43.750000   \n",
       "4        88.279999  12.28  74.529999  310.149994  62.343498  43.587502   \n",
       "\n",
       "Symbols         MO        AEE        AIG         WY  \n",
       "0        70.739998  58.389999  59.500000  35.299999  \n",
       "1        70.480003  58.090000  60.160000  35.610001  \n",
       "2        70.199997  57.430000  60.400002  35.320000  \n",
       "3        70.400002  57.389999  60.650002  35.270000  \n",
       "4        70.309998  58.070000  60.250000  35.500000  "
      ]
     },
     "execution_count": 17,
     "metadata": {},
     "output_type": "execute_result"
    }
   ],
   "source": [
    "stock_close = stock.iloc[:125]['Close'].reset_index(drop=True)\n",
    "stock_close.head()"
   ]
  },
  {
   "cell_type": "code",
   "execution_count": 18,
   "metadata": {},
   "outputs": [],
   "source": [
    "param={}\n",
    "param ={'model_params':\n",
    "    {'model_n':'equal_weight',\n",
    "    'collectData':False,\n",
    "    'isEmsRet':False,\n",
    "    'isExpCov':False,\n",
    "    'isCleanWeight':False,\n",
    "    'upd_period': 0}}"
   ]
  },
  {
   "cell_type": "code",
   "execution_count": 19,
   "metadata": {},
   "outputs": [
    {
     "data": {
      "text/plain": [
       "array([0.1000, 0.1000, 0.1000, 0.1000, 0.1000, 0.1000, 0.1000, 0.1000,\n",
       "       0.1000, 0.1000])"
      ]
     },
     "execution_count": 19,
     "metadata": {},
     "output_type": "execute_result"
    }
   ],
   "source": [
    "m = Model()\n",
    "m.get_allocations(stock_close, **param['model_params'])"
   ]
  },
  {
   "cell_type": "code",
   "execution_count": 20,
   "metadata": {},
   "outputs": [
    {
     "ename": "IndexError",
     "evalue": "single positional indexer is out-of-bounds",
     "output_type": "error",
     "traceback": [
      "\u001b[0;31m---------------------------------------------------------------------------\u001b[0m",
      "\u001b[0;31mIndexError\u001b[0m                                Traceback (most recent call last)",
      "\u001b[1;32m/workspaces/BTP/CodeFromVideo/test_classic_model.ipynb Cell 11\u001b[0m in \u001b[0;36m<cell line: 21>\u001b[0;34m()\u001b[0m\n\u001b[1;32m     <a href='vscode-notebook-cell://codespaces%2Bdivyanshu-info-btp-95qgrgp67563xrvg/workspaces/BTP/CodeFromVideo/test_classic_model.ipynb#X12sdnNjb2RlLXJlbW90ZQ%3D%3D?line=17'>18</a>\u001b[0m         \u001b[39m#print(r_list[-1])\u001b[39;00m\n\u001b[1;32m     <a href='vscode-notebook-cell://codespaces%2Bdivyanshu-info-btp-95qgrgp67563xrvg/workspaces/BTP/CodeFromVideo/test_classic_model.ipynb#X12sdnNjb2RlLXJlbW90ZQ%3D%3D?line=18'>19</a>\u001b[0m     \u001b[39mreturn\u001b[39;00m r_list\n\u001b[0;32m---> <a href='vscode-notebook-cell://codespaces%2Bdivyanshu-info-btp-95qgrgp67563xrvg/workspaces/BTP/CodeFromVideo/test_classic_model.ipynb#X12sdnNjb2RlLXJlbW90ZQ%3D%3D?line=20'>21</a>\u001b[0m rl \u001b[39m=\u001b[39m getReturnFromAlloc(n, \u001b[39m'\u001b[39;49m\u001b[39mCLA\u001b[39;49m\u001b[39m'\u001b[39;49m)\n\u001b[1;32m     <a href='vscode-notebook-cell://codespaces%2Bdivyanshu-info-btp-95qgrgp67563xrvg/workspaces/BTP/CodeFromVideo/test_classic_model.ipynb#X12sdnNjb2RlLXJlbW90ZQ%3D%3D?line=21'>22</a>\u001b[0m \u001b[39mfor\u001b[39;00m r, s, sp \u001b[39min\u001b[39;00m rl:\n\u001b[1;32m     <a href='vscode-notebook-cell://codespaces%2Bdivyanshu-info-btp-95qgrgp67563xrvg/workspaces/BTP/CodeFromVideo/test_classic_model.ipynb#X12sdnNjb2RlLXJlbW90ZQ%3D%3D?line=22'>23</a>\u001b[0m     \u001b[39mprint\u001b[39m(\u001b[39m\"\u001b[39m\u001b[39m{:.4f}\u001b[39;00m\u001b[39m  \u001b[39m\u001b[39m{:.4f}\u001b[39;00m\u001b[39m  \u001b[39m\u001b[39m{:.4f}\u001b[39;00m\u001b[39m\"\u001b[39m\u001b[39m.\u001b[39mformat(r,s,sp))\n",
      "\u001b[1;32m/workspaces/BTP/CodeFromVideo/test_classic_model.ipynb Cell 11\u001b[0m in \u001b[0;36mgetReturnFromAlloc\u001b[0;34m(n, model_n)\u001b[0m\n\u001b[1;32m     <a href='vscode-notebook-cell://codespaces%2Bdivyanshu-info-btp-95qgrgp67563xrvg/workspaces/BTP/CodeFromVideo/test_classic_model.ipynb#X12sdnNjb2RlLXJlbW90ZQ%3D%3D?line=13'>14</a>\u001b[0m stock_close \u001b[39m=\u001b[39m stock\u001b[39m.\u001b[39miloc[i:i\u001b[39m+\u001b[39m\u001b[39m125\u001b[39m][\u001b[39m'\u001b[39m\u001b[39mClose\u001b[39m\u001b[39m'\u001b[39m]\u001b[39m.\u001b[39mreset_index(drop\u001b[39m=\u001b[39m\u001b[39mTrue\u001b[39;00m)\u001b[39m.\u001b[39mfillna(very_small_float)\n\u001b[1;32m     <a href='vscode-notebook-cell://codespaces%2Bdivyanshu-info-btp-95qgrgp67563xrvg/workspaces/BTP/CodeFromVideo/test_classic_model.ipynb#X12sdnNjb2RlLXJlbW90ZQ%3D%3D?line=14'>15</a>\u001b[0m m \u001b[39m=\u001b[39m Model()\n\u001b[0;32m---> <a href='vscode-notebook-cell://codespaces%2Bdivyanshu-info-btp-95qgrgp67563xrvg/workspaces/BTP/CodeFromVideo/test_classic_model.ipynb#X12sdnNjb2RlLXJlbW90ZQ%3D%3D?line=15'>16</a>\u001b[0m alloc \u001b[39m=\u001b[39m m\u001b[39m.\u001b[39;49mget_allocations(stock_close\u001b[39m.\u001b[39;49mvalues, \u001b[39m*\u001b[39;49m\u001b[39m*\u001b[39;49mparam[\u001b[39m'\u001b[39;49m\u001b[39mmodel_params\u001b[39;49m\u001b[39m'\u001b[39;49m])\n\u001b[1;32m     <a href='vscode-notebook-cell://codespaces%2Bdivyanshu-info-btp-95qgrgp67563xrvg/workspaces/BTP/CodeFromVideo/test_classic_model.ipynb#X12sdnNjb2RlLXJlbW90ZQ%3D%3D?line=16'>17</a>\u001b[0m r_list\u001b[39m.\u001b[39mappend((get_portfolio_values(alloc, stock_close)))\n\u001b[1;32m     <a href='vscode-notebook-cell://codespaces%2Bdivyanshu-info-btp-95qgrgp67563xrvg/workspaces/BTP/CodeFromVideo/test_classic_model.ipynb#X12sdnNjb2RlLXJlbW90ZQ%3D%3D?line=17'>18</a>\u001b[0m \u001b[39m#print(r_list[-1])\u001b[39;00m\n",
      "\u001b[1;32m/workspaces/BTP/CodeFromVideo/test_classic_model.ipynb Cell 11\u001b[0m in \u001b[0;36mModel.get_allocations\u001b[0;34m(self, data, **param)\u001b[0m\n\u001b[1;32m     <a href='vscode-notebook-cell://codespaces%2Bdivyanshu-info-btp-95qgrgp67563xrvg/workspaces/BTP/CodeFromVideo/test_classic_model.ipynb#X12sdnNjb2RlLXJlbW90ZQ%3D%3D?line=43'>44</a>\u001b[0m mu \u001b[39m=\u001b[39m expected_returns\u001b[39m.\u001b[39mmean_historical_return(\u001b[39mself\u001b[39m\u001b[39m.\u001b[39mdata)\u001b[39m.\u001b[39mfillna(\u001b[39m0.0\u001b[39m)\u001b[39m.\u001b[39mvalues\n\u001b[1;32m     <a href='vscode-notebook-cell://codespaces%2Bdivyanshu-info-btp-95qgrgp67563xrvg/workspaces/BTP/CodeFromVideo/test_classic_model.ipynb#X12sdnNjb2RlLXJlbW90ZQ%3D%3D?line=44'>45</a>\u001b[0m \u001b[39mif\u001b[39;00m isEmsRet \u001b[39m==\u001b[39m \u001b[39mTrue\u001b[39;00m:\n\u001b[0;32m---> <a href='vscode-notebook-cell://codespaces%2Bdivyanshu-info-btp-95qgrgp67563xrvg/workspaces/BTP/CodeFromVideo/test_classic_model.ipynb#X12sdnNjb2RlLXJlbW90ZQ%3D%3D?line=45'>46</a>\u001b[0m     mu \u001b[39m=\u001b[39m expected_returns\u001b[39m.\u001b[39;49mema_historical_return(\u001b[39mself\u001b[39;49m\u001b[39m.\u001b[39;49mdata)\u001b[39m.\u001b[39mfillna(\u001b[39m0.0\u001b[39m)\u001b[39m.\u001b[39mvalues\n\u001b[1;32m     <a href='vscode-notebook-cell://codespaces%2Bdivyanshu-info-btp-95qgrgp67563xrvg/workspaces/BTP/CodeFromVideo/test_classic_model.ipynb#X12sdnNjb2RlLXJlbW90ZQ%3D%3D?line=47'>48</a>\u001b[0m S \u001b[39m=\u001b[39m risk_models\u001b[39m.\u001b[39msample_cov(\u001b[39mself\u001b[39m\u001b[39m.\u001b[39mdata)\u001b[39m.\u001b[39mfillna(\u001b[39m0.0\u001b[39m)\u001b[39m.\u001b[39mvalues\n\u001b[1;32m     <a href='vscode-notebook-cell://codespaces%2Bdivyanshu-info-btp-95qgrgp67563xrvg/workspaces/BTP/CodeFromVideo/test_classic_model.ipynb#X12sdnNjb2RlLXJlbW90ZQ%3D%3D?line=48'>49</a>\u001b[0m \u001b[39mif\u001b[39;00m isExpCov \u001b[39m==\u001b[39m \u001b[39mTrue\u001b[39;00m:    \n",
      "File \u001b[0;32m~/.local/lib/python3.8/site-packages/pypfopt/expected_returns.py:192\u001b[0m, in \u001b[0;36mema_historical_return\u001b[0;34m(prices, returns_data, compounding, span, frequency, log_returns)\u001b[0m\n\u001b[1;32m    190\u001b[0m _check_returns(returns)\n\u001b[1;32m    191\u001b[0m \u001b[39mif\u001b[39;00m compounding:\n\u001b[0;32m--> 192\u001b[0m     \u001b[39mreturn\u001b[39;00m (\u001b[39m1\u001b[39m \u001b[39m+\u001b[39m returns\u001b[39m.\u001b[39;49mewm(span\u001b[39m=\u001b[39;49mspan)\u001b[39m.\u001b[39;49mmean()\u001b[39m.\u001b[39;49miloc[\u001b[39m-\u001b[39;49m\u001b[39m1\u001b[39;49m]) \u001b[39m*\u001b[39m\u001b[39m*\u001b[39m frequency \u001b[39m-\u001b[39m \u001b[39m1\u001b[39m\n\u001b[1;32m    193\u001b[0m \u001b[39melse\u001b[39;00m:\n\u001b[1;32m    194\u001b[0m     \u001b[39mreturn\u001b[39;00m returns\u001b[39m.\u001b[39mewm(span\u001b[39m=\u001b[39mspan)\u001b[39m.\u001b[39mmean()\u001b[39m.\u001b[39miloc[\u001b[39m-\u001b[39m\u001b[39m1\u001b[39m] \u001b[39m*\u001b[39m frequency\n",
      "File \u001b[0;32m~/.local/lib/python3.8/site-packages/pandas/core/indexing.py:967\u001b[0m, in \u001b[0;36m_LocationIndexer.__getitem__\u001b[0;34m(self, key)\u001b[0m\n\u001b[1;32m    964\u001b[0m axis \u001b[39m=\u001b[39m \u001b[39mself\u001b[39m\u001b[39m.\u001b[39maxis \u001b[39mor\u001b[39;00m \u001b[39m0\u001b[39m\n\u001b[1;32m    966\u001b[0m maybe_callable \u001b[39m=\u001b[39m com\u001b[39m.\u001b[39mapply_if_callable(key, \u001b[39mself\u001b[39m\u001b[39m.\u001b[39mobj)\n\u001b[0;32m--> 967\u001b[0m \u001b[39mreturn\u001b[39;00m \u001b[39mself\u001b[39;49m\u001b[39m.\u001b[39;49m_getitem_axis(maybe_callable, axis\u001b[39m=\u001b[39;49maxis)\n",
      "File \u001b[0;32m~/.local/lib/python3.8/site-packages/pandas/core/indexing.py:1523\u001b[0m, in \u001b[0;36m_iLocIndexer._getitem_axis\u001b[0;34m(self, key, axis)\u001b[0m\n\u001b[1;32m   1520\u001b[0m     \u001b[39mraise\u001b[39;00m \u001b[39mTypeError\u001b[39;00m(\u001b[39m\"\u001b[39m\u001b[39mCannot index by location index with a non-integer key\u001b[39m\u001b[39m\"\u001b[39m)\n\u001b[1;32m   1522\u001b[0m \u001b[39m# validate the location\u001b[39;00m\n\u001b[0;32m-> 1523\u001b[0m \u001b[39mself\u001b[39;49m\u001b[39m.\u001b[39;49m_validate_integer(key, axis)\n\u001b[1;32m   1525\u001b[0m \u001b[39mreturn\u001b[39;00m \u001b[39mself\u001b[39m\u001b[39m.\u001b[39mobj\u001b[39m.\u001b[39m_ixs(key, axis\u001b[39m=\u001b[39maxis)\n",
      "File \u001b[0;32m~/.local/lib/python3.8/site-packages/pandas/core/indexing.py:1455\u001b[0m, in \u001b[0;36m_iLocIndexer._validate_integer\u001b[0;34m(self, key, axis)\u001b[0m\n\u001b[1;32m   1453\u001b[0m len_axis \u001b[39m=\u001b[39m \u001b[39mlen\u001b[39m(\u001b[39mself\u001b[39m\u001b[39m.\u001b[39mobj\u001b[39m.\u001b[39m_get_axis(axis))\n\u001b[1;32m   1454\u001b[0m \u001b[39mif\u001b[39;00m key \u001b[39m>\u001b[39m\u001b[39m=\u001b[39m len_axis \u001b[39mor\u001b[39;00m key \u001b[39m<\u001b[39m \u001b[39m-\u001b[39mlen_axis:\n\u001b[0;32m-> 1455\u001b[0m     \u001b[39mraise\u001b[39;00m \u001b[39mIndexError\u001b[39;00m(\u001b[39m\"\u001b[39m\u001b[39msingle positional indexer is out-of-bounds\u001b[39m\u001b[39m\"\u001b[39m)\n",
      "\u001b[0;31mIndexError\u001b[0m: single positional indexer is out-of-bounds"
     ]
    }
   ],
   "source": [
    "\n",
    "n = [0, 200, 250, 300, 350, 400, 500, 700, 1000, 1300]\n",
    "def getReturnFromAlloc(n, model_n):\n",
    "    r_list = []\n",
    "    param={}\n",
    "    param ={'model_params':\n",
    "        {'model_n':model_n,\n",
    "        'collectData':False,\n",
    "        'isEmsRet':True,\n",
    "        'isExpCov':True,\n",
    "        'isCleanWeight':False,\n",
    "        'upd_period': 0}}\n",
    "    #print('ret, std, sharp')\n",
    "    for i in n:\n",
    "        stock_close = stock.iloc[i:i+125]['Close'].reset_index(drop=True).fillna(very_small_float)\n",
    "        m = Model()\n",
    "        alloc = m.get_allocations(stock_close.values, **param['model_params'])\n",
    "        r_list.append((get_portfolio_values(alloc, stock_close)))\n",
    "        #print(r_list[-1])\n",
    "    return r_list\n",
    "\n",
    "rl = getReturnFromAlloc(n, 'CLA')\n",
    "for r, s, sp in rl:\n",
    "    print(\"{:.4f}  {:.4f}  {:.4f}\".format(r,s,sp))"
   ]
  },
  {
   "cell_type": "code",
   "execution_count": null,
   "metadata": {},
   "outputs": [],
   "source": [
    "model_List = ['MeanVariance', 'CLA', 'HRP', 'nonconvex', 'random', 'equal_weight']\n",
    "res = {}\n",
    "for mn in model_List:\n",
    "    rl = getReturnFromAlloc(n, mn)\n",
    "    sharp = []\n",
    "    for r,s,sp in rl:\n",
    "        sharp.append(sp)\n",
    "    res[mn] = sharp\n",
    "pd.DataFrame(res).to_csv('models_alloc_results.csv')\n",
    "pd.DataFrame(res)"
   ]
  },
  {
   "cell_type": "code",
   "execution_count": null,
   "metadata": {},
   "outputs": [],
   "source": [
    "ticker = ['SPY', 'TLT', 'GLD', 'RWO']\n",
    "history_range = {'start': datetime(2010, 1, 1), \n",
    "                 'end': datetime(2020, 10, 1)}\n",
    "\n",
    "stock = pdr.DataReader(ticker, \n",
    "                start=history_range['start'],\n",
    "                end=history_range['end'],\n",
    "                data_source='yahoo')\n",
    "\n",
    "res = {}\n",
    "for mn in model_List:\n",
    "    rl = getReturnFromAlloc(n, mn)\n",
    "    sharp = []\n",
    "    for r,s,sp in rl:\n",
    "        sharp.append(sp)\n",
    "    res[mn] = sharp\n",
    "pd.DataFrame(res).to_csv('models_alloc_results_2.csv')\n",
    "pd.DataFrame(res)"
   ]
  },
  {
   "cell_type": "markdown",
   "metadata": {},
   "source": [
    "## Test"
   ]
  },
  {
   "cell_type": "code",
   "execution_count": null,
   "metadata": {},
   "outputs": [],
   "source": [
    "from bt_testcode import backtest, DynRebalance, get_name, plotAllocation, getStatistic, plotPorfolioReturns"
   ]
  },
  {
   "cell_type": "code",
   "execution_count": null,
   "metadata": {},
   "outputs": [],
   "source": [
    "def executeTest(d_stat, d_res, params, config_cerebro):\n",
    "\n",
    "    def setParams(params, model_n, collectData):\n",
    "        params['model'] = Model()\n",
    "        params['model_params']['model_n'] = model_n\n",
    "        params['model_params']['collectData'] = collectData\n",
    "        return params\n",
    "\n",
    "\n",
    "    ah = {}\n",
    "    print('MeanVariance')\n",
    "    params = setParams(params, model_n='MeanVariance', collectData=False)\n",
    "    d_stat[get_name(params)], d_res[get_name(params)], ah[get_name(params)] = backtest(config_cerebro, DynRebalance, m_name=get_name(params), plot=False, **params)\n",
    "\n",
    "    print('MeanVariance + collectData = True')\n",
    "    #params['collectData'] = True\n",
    "    params = setParams(params, model_n='MeanVariance', collectData=True)\n",
    "    d_stat[get_name(params)], d_res[get_name(params)], ah[get_name(params)] = backtest(config_cerebro, DynRebalance, m_name=get_name(params), plot=False, **params)\n",
    "\n",
    "    print('CLA')\n",
    "    #params['collectData'] = False\n",
    "    #params['model_n'] =  'CLA'\n",
    "    params = setParams(params, model_n='CLA', collectData=False)\n",
    "    d_stat[get_name(params)], d_res[get_name(params)], ah[get_name(params)] = backtest(config_cerebro, DynRebalance, m_name=get_name(params), plot=False, **params)\n",
    "\n",
    "    print('CLA + collectData = True')\n",
    "    #params['collectData'] = True\n",
    "    #params['model_n'] =  'CLA'\n",
    "    params = setParams(params, model_n='CLA', collectData=True)\n",
    "    d_stat[get_name(params)], d_res[get_name(params)], ah[get_name(params)] = backtest(config_cerebro, DynRebalance, m_name=get_name(params), plot=False, **params)\n",
    "\n",
    "    print('HRP')\n",
    "    #params['collectData'] = False\n",
    "    #params['model_n'] =  'HRP'\n",
    "    params = setParams(params, model_n='HRP', collectData=False)\n",
    "    d_stat[get_name(params)], d_res[get_name(params)], ah[get_name(params)] = backtest(config_cerebro, DynRebalance, m_name=get_name(params), plot=False, **params)\n",
    "\n",
    "    print('HRP + collectData = True')\n",
    "   # params['collectData'] = True\n",
    "   # params['model_n'] =  'HRP'\n",
    "    params = setParams(params, model_n='HRP', collectData=True)\n",
    "    d_stat[get_name(params)], d_res[get_name(params)], ah[get_name(params)] = backtest(config_cerebro, DynRebalance, m_name=get_name(params), plot=False, **params)\n",
    "\n",
    "    print('noncovex')\n",
    "    #params['collectData'] = False\n",
    "    #params['model_n'] =  'nonconvex'\n",
    "    params = setParams(params, model_n='nonconvex', collectData=False)\n",
    "    d_stat[get_name(params)], d_res[get_name(params)], ah[get_name(params)] = backtest(config_cerebro, DynRebalance, m_name=get_name(params), plot=False, **params)\n",
    "\n",
    "    print('nonconvex + collectData = True')\n",
    "#    params['collectData'] = True\n",
    "#    params['model_n'] =  'nonconvex'\n",
    "    params = setParams(params, model_n='nonconvex', collectData=True)\n",
    "    d_stat[get_name(params)], d_res[get_name(params)], ah[get_name(params)] = backtest(config_cerebro, DynRebalance, m_name=get_name(params), plot=False, **params)\n",
    "\n",
    "    print('random')\n",
    "    #params['collectData'] = False\n",
    "    #params['model_n'] =  'random'\n",
    "    params = setParams(params, model_n='random', collectData=False)\n",
    "    d_stat[get_name(params)], d_res[get_name(params)], ah[get_name(params)] = backtest(config_cerebro, DynRebalance, m_name=get_name(params), plot=False, **params)\n",
    "\n",
    "    print('equal_weight')\n",
    "    params = setParams(params, model_n='equal_weight', collectData=False)\n",
    "    d_stat[get_name(params)], d_res[get_name(params)], ah[get_name(params)] = backtest(config_cerebro, DynRebalance, m_name=get_name(params), plot=False, **params)\n",
    "\n",
    "    print('Benchmark')\n",
    "    config_cerebro['stocks_df'] = None\n",
    "    config_cerebro['benchmark_df'] = None\n",
    "    config_cerebro['assets'] = [config_cerebro['benchmark']]\n",
    "    params = setParams(params, model_n='CLA', collectData=False)\n",
    "    d_stat['Benchmark'], d_res['Benchmark'], ah[get_name(params)] = backtest(config_cerebro, DynRebalance, m_name='Benchmark', plot=False, **params)\n",
    "    \n",
    "    return d_stat, d_res, ah"
   ]
  },
  {
   "cell_type": "markdown",
   "metadata": {},
   "source": [
    "# Test 2008-2010"
   ]
  },
  {
   "cell_type": "code",
   "execution_count": null,
   "metadata": {},
   "outputs": [],
   "source": [
    "config_cerebro = {\n",
    "    'assets':['MSFT', 'AMD', 'C', 'BA', 'AMZN', 'AAPL','MO', 'AEE', 'AIG', 'WY'],\n",
    "    'benchmark':'SPY',\n",
    "    'startd': datetime(2008, 1, 1),\n",
    "    'endd'  : datetime(2010, 12, 31),\n",
    "    'set_coc' : True,\n",
    "    'set_coo' : False,\n",
    "    'cash': 11000.0,\n",
    "    'stocks_df':None,\n",
    "    'benchmark_df':None\n",
    "}\n",
    "\n",
    "params = {\n",
    "    'DataCounter': 125,\n",
    "    'RebalanceDay': 22,\n",
    "    'reserveCash': 1000.0,\n",
    "    'printlog': 0,\n",
    "    'benchmarkUse': True,\n",
    "    'resetModel':False, \n",
    "    'resetModelStep':4,\n",
    "    'model':Model(),\n",
    "    'model_params':{\n",
    "        'model_n':'CLA',\n",
    "        'collectData':False,\n",
    "        'isEmsRet':True,\n",
    "        'isExpCov':True,\n",
    "        'isCleanWeight':False,\n",
    "        'upd_period': 22}\n",
    "}\n",
    "d_res = {}\n",
    "d_stat = {}"
   ]
  },
  {
   "cell_type": "code",
   "execution_count": null,
   "metadata": {},
   "outputs": [],
   "source": [
    "config_cerebro['stocks_df'] = pdr.DataReader(config_cerebro['assets'], \n",
    "                start=config_cerebro['startd'],\n",
    "                end=config_cerebro['endd'],\n",
    "                data_source='yahoo')\n",
    "config_cerebro['benchmark_df'] = pdr.DataReader(config_cerebro['benchmark'], \n",
    "                start=config_cerebro['startd'],\n",
    "                end=config_cerebro['endd'],\n",
    "                data_source='yahoo')"
   ]
  },
  {
   "cell_type": "markdown",
   "metadata": {},
   "source": [
    "## Random weight"
   ]
  },
  {
   "cell_type": "code",
   "execution_count": null,
   "metadata": {},
   "outputs": [],
   "source": [
    "params['model_params']['model_n'] =  'random'\n",
    "\n",
    "d_stat[get_name(params)], d_res[get_name(params)], ah = backtest(config_cerebro, DynRebalance, m_name=get_name(params), plot=False, **params)\n",
    "display(d_stat[get_name(params)])\n",
    "d_res[get_name(params)].plot()"
   ]
  },
  {
   "cell_type": "code",
   "execution_count": null,
   "metadata": {},
   "outputs": [],
   "source": [
    "plotAllocation(ah.dropna())"
   ]
  },
  {
   "cell_type": "markdown",
   "metadata": {},
   "source": [
    "## MeanVariance\n",
    "\n",
    "No Data collecting"
   ]
  },
  {
   "cell_type": "code",
   "execution_count": null,
   "metadata": {
    "tags": []
   },
   "outputs": [],
   "source": [
    "params['model'] = Model()\n",
    "params['model_params']['model_n'] = 'MeanVariance'\n",
    "\n",
    "\n",
    "d_stat[get_name(params)], d_res[get_name(params)], ah = backtest(config_cerebro, DynRebalance, m_name=get_name(params), plot=False, **params)\n",
    "display(d_stat[get_name(params)])\n",
    "d_res[get_name(params)].plot()"
   ]
  },
  {
   "cell_type": "code",
   "execution_count": null,
   "metadata": {},
   "outputs": [],
   "source": [
    "plotAllocation(ah.dropna())"
   ]
  },
  {
   "cell_type": "markdown",
   "metadata": {},
   "source": [
    "with data collecting"
   ]
  },
  {
   "cell_type": "code",
   "execution_count": null,
   "metadata": {
    "tags": []
   },
   "outputs": [],
   "source": [
    "params['model'] = Model()\n",
    "params['model_params']['model_n'] = 'MeanVariance'\n",
    "params['model_params']['collectData'] = True\n",
    "\n",
    "d_stat[get_name(params)], d_res[get_name(params)], ah = backtest(config_cerebro, DynRebalance, m_name=get_name(params), plot=False, **params)\n",
    "display(d_stat[get_name(params)])\n",
    "d_res[get_name(params)].plot()"
   ]
  },
  {
   "cell_type": "code",
   "execution_count": null,
   "metadata": {},
   "outputs": [],
   "source": [
    "plotAllocation(ah.dropna())"
   ]
  },
  {
   "cell_type": "markdown",
   "metadata": {},
   "source": [
    "## CLA"
   ]
  },
  {
   "cell_type": "code",
   "execution_count": null,
   "metadata": {},
   "outputs": [],
   "source": [
    "params['model'] = Model()\n",
    "params['model_params']['model_n'] = 'CLA'\n",
    "params['model_params']['collectData'] = False\n",
    "\n",
    "d_stat[get_name(params)], d_res[get_name(params)], ah = backtest(config_cerebro, DynRebalance, m_name=get_name(params), plot=False, **params)\n",
    "display(d_stat[get_name(params)])\n",
    "d_res[get_name(params)].plot()"
   ]
  },
  {
   "cell_type": "code",
   "execution_count": null,
   "metadata": {},
   "outputs": [],
   "source": [
    "plotAllocation(ah.dropna())"
   ]
  },
  {
   "cell_type": "code",
   "execution_count": null,
   "metadata": {},
   "outputs": [],
   "source": []
  },
  {
   "cell_type": "code",
   "execution_count": null,
   "metadata": {},
   "outputs": [],
   "source": [
    "params['model'] = Model()\n",
    "params['model_params']['model_n'] = 'CLA'\n",
    "params['model_params']['collectData'] = True\n",
    "d_stat[get_name(params)], d_res[get_name(params)], ah = backtest(config_cerebro, DynRebalance, m_name=get_name(params), plot=False, **params)\n",
    "display(d_stat[get_name(params)])\n",
    "d_res[get_name(params)].plot()"
   ]
  },
  {
   "cell_type": "code",
   "execution_count": null,
   "metadata": {},
   "outputs": [],
   "source": [
    "plotAllocation(ah.dropna())"
   ]
  },
  {
   "cell_type": "markdown",
   "metadata": {},
   "source": [
    "## HRP"
   ]
  },
  {
   "cell_type": "code",
   "execution_count": null,
   "metadata": {},
   "outputs": [],
   "source": [
    "params['model'] = Model()\n",
    "params['model_params']['model_n'] = 'HRP'\n",
    "params['model_params']['collectData'] = False\n",
    "\n",
    "d_stat[get_name(params)], d_res[get_name(params)], ah = backtest(config_cerebro, DynRebalance, m_name=get_name(params), plot=False, **params)\n",
    "display(d_stat[get_name(params)])\n",
    "d_res[get_name(params)].plot()"
   ]
  },
  {
   "cell_type": "code",
   "execution_count": null,
   "metadata": {},
   "outputs": [],
   "source": [
    "plotAllocation(ah.dropna())"
   ]
  },
  {
   "cell_type": "code",
   "execution_count": null,
   "metadata": {},
   "outputs": [],
   "source": [
    "params['model'] = Model()\n",
    "params['model_params']['model_n'] = 'HRP'\n",
    "params['model_params']['collectData'] = True\n",
    "\n",
    "d_stat[get_name(params)], d_res[get_name(params)], ah = backtest(config_cerebro, DynRebalance, m_name=get_name(params), plot=False, **params)\n",
    "display(d_stat[get_name(params)])\n",
    "d_res[get_name(params)].plot()"
   ]
  },
  {
   "cell_type": "code",
   "execution_count": null,
   "metadata": {},
   "outputs": [],
   "source": [
    "plotAllocation(ah.dropna())"
   ]
  },
  {
   "cell_type": "markdown",
   "metadata": {},
   "source": [
    "## nonconvex"
   ]
  },
  {
   "cell_type": "code",
   "execution_count": null,
   "metadata": {},
   "outputs": [],
   "source": [
    "params['model'] = Model()\n",
    "params['model_params']['model_n'] = 'nonconvex'\n",
    "params['model_params']['collectData'] = False\n",
    "\n",
    "d_stat[get_name(params)], d_res[get_name(params)], ah = backtest(config_cerebro, DynRebalance, m_name=get_name(params), plot=False, **params)\n",
    "display(d_stat[get_name(params)])\n",
    "d_res[get_name(params)].plot()"
   ]
  },
  {
   "cell_type": "code",
   "execution_count": null,
   "metadata": {},
   "outputs": [],
   "source": [
    "plotAllocation(ah.dropna())"
   ]
  },
  {
   "cell_type": "code",
   "execution_count": null,
   "metadata": {},
   "outputs": [],
   "source": [
    "params['model'] = Model()\n",
    "params['model_params']['model_n'] = 'nonconvex'\n",
    "params['model_params']['collectData'] = True\n",
    "\n",
    "d_stat[get_name(params)], d_res[get_name(params)], ah = backtest(config_cerebro, DynRebalance, m_name=get_name(params), plot=False, **params)\n",
    "display(d_stat[get_name(params)])\n",
    "d_res[get_name(params)].plot()"
   ]
  },
  {
   "cell_type": "code",
   "execution_count": null,
   "metadata": {},
   "outputs": [],
   "source": [
    "plotAllocation(ah.dropna())"
   ]
  },
  {
   "cell_type": "code",
   "execution_count": null,
   "metadata": {},
   "outputs": [],
   "source": [
    "params['model'] = Model()\n",
    "params['model_params']['model_n'] = 'equal_weight'\n",
    "params['model_params']['collectData'] = False\n",
    "\n",
    "d_stat[get_name(params)], d_res[get_name(params)], ah = backtest(config_cerebro, DynRebalance, m_name=get_name(params), plot=False, **params)\n",
    "display(d_stat[get_name(params)])\n",
    "d_res[get_name(params)].plot()"
   ]
  },
  {
   "cell_type": "code",
   "execution_count": null,
   "metadata": {},
   "outputs": [],
   "source": [
    "params['model'] = Model()\n",
    "config_cerebro['config_cerebro'] = ['SPY']\n",
    "d_stat['Benchmark'], d_res['Benchmark'], ah = backtest(config_cerebro, DynRebalance, m_name='Benchmark', plot=False, **params)"
   ]
  },
  {
   "cell_type": "code",
   "execution_count": null,
   "metadata": {},
   "outputs": [],
   "source": [
    "\n",
    "stat = getStatistic(d_stat)\n",
    "stat.to_csv(\"models_stat_2008_2010.csv\")\n",
    "stat.sort_values(by=['Sharp_Ratio'], ascending=False)"
   ]
  },
  {
   "cell_type": "code",
   "execution_count": null,
   "metadata": {},
   "outputs": [],
   "source": [
    "df = plotPorfolioReturns(d_res, None)\n",
    "df.to_csv('models_drawdown_2008_2010.csv')"
   ]
  },
  {
   "cell_type": "markdown",
   "metadata": {},
   "source": [
    "# TEST 2011-2017"
   ]
  },
  {
   "cell_type": "code",
   "execution_count": null,
   "metadata": {},
   "outputs": [],
   "source": [
    "config_cerebro = {\n",
    "    'assets':['MSFT', 'AMD', 'C', 'BA', 'AMZN', 'AAPL','MO', 'AEE', 'AIG', 'WY'],\n",
    "    'benchmark':'SPY',\n",
    "    'startd': datetime(2011, 1, 1),\n",
    "    'endd'  : datetime(2017, 12, 31),\n",
    "    'set_coc' : True,\n",
    "    'set_coo' : False,\n",
    "    'cash': 11000.0,\n",
    "    'stocks_df':None,\n",
    "    'benchmark_df':None\n",
    "}\n",
    "\n",
    "params = {\n",
    "    'DataCounter': 125,\n",
    "    'RebalanceDay': 22,\n",
    "    'reserveCash': 1000.0,\n",
    "    'printlog': 0,\n",
    "    'benchmarkUse': True,\n",
    "    'resetModel':False, \n",
    "    'resetModelStep':4,\n",
    "    'model':Model(),\n",
    "    'model_params':{\n",
    "        'model_n':'CLA',\n",
    "        'collectData':False,\n",
    "        'isEmsRet':True,\n",
    "        'isExpCov':True,\n",
    "        'isCleanWeight':False,\n",
    "        'upd_period': 22}\n",
    "}\n",
    "d_res = {}\n",
    "d_stat = {}\n",
    "config_cerebro['stocks_df'] = pdr.DataReader(config_cerebro['assets'], \n",
    "                start=config_cerebro['startd'],\n",
    "                end=config_cerebro['endd'],\n",
    "                data_source='yahoo')\n",
    "config_cerebro['benchmark_df'] = pdr.DataReader(config_cerebro['benchmark'], \n",
    "                start=config_cerebro['startd'],\n",
    "                end=config_cerebro['endd'],\n",
    "                data_source='yahoo')"
   ]
  },
  {
   "cell_type": "code",
   "execution_count": null,
   "metadata": {},
   "outputs": [],
   "source": [
    "d_stat, d_res, d_ah = executeTest(d_stat, d_res, params, config_cerebro)"
   ]
  },
  {
   "cell_type": "code",
   "execution_count": null,
   "metadata": {},
   "outputs": [],
   "source": [
    "stat = getStatistic(d_stat)\n",
    "stat.to_csv(\"models_stat_2011_2017.csv\")\n",
    "stat.sort_values(by=['Sharp_Ratio'], ascending=False)"
   ]
  },
  {
   "cell_type": "code",
   "execution_count": null,
   "metadata": {},
   "outputs": [],
   "source": [
    "df = plotPorfolioReturns(d_res, None)\n",
    "df.to_csv('models_drawdown_2011_2017.csv')"
   ]
  },
  {
   "cell_type": "markdown",
   "metadata": {},
   "source": [
    "# TEST 2018-2021"
   ]
  },
  {
   "cell_type": "code",
   "execution_count": null,
   "metadata": {},
   "outputs": [],
   "source": [
    "config_cerebro = {\n",
    "    'assets':['MSFT', 'AMD', 'C', 'BA', 'AMZN', 'AAPL','MO', 'AEE', 'AIG', 'WY'],\n",
    "    'benchmark':'SPY',\n",
    "    'startd': datetime(2018, 1, 1),\n",
    "    'endd'  : datetime(2021, 12, 31),\n",
    "    'set_coc' : True,\n",
    "    'set_coo' : False,\n",
    "    'cash': 11000.0,\n",
    "    'stocks_df':None,\n",
    "    'benchmark_df':None\n",
    "}\n",
    "\n",
    "params = {\n",
    "    'DataCounter': 125,\n",
    "    'RebalanceDay': 22,\n",
    "    'reserveCash': 1000.0,\n",
    "    'printlog': 0,\n",
    "    'benchmarkUse': True,\n",
    "    'resetModel':False, \n",
    "    'resetModelStep':4,\n",
    "    'model':Model(),\n",
    "    'model_params':{\n",
    "        'model_n':'CLA',\n",
    "        'collectData':False,\n",
    "        'isEmsRet':True,\n",
    "        'isExpCov':True,\n",
    "        'isCleanWeight':False,\n",
    "        'upd_period': 22}\n",
    "}\n",
    "d_res = {}\n",
    "d_stat = {}\n",
    "config_cerebro['stocks_df'] = pdr.DataReader(config_cerebro['assets'], \n",
    "                start=config_cerebro['startd'],\n",
    "                end=config_cerebro['endd'],\n",
    "                data_source='yahoo')\n",
    "config_cerebro['benchmark_df'] = pdr.DataReader(config_cerebro['benchmark'], \n",
    "                start=config_cerebro['startd'],\n",
    "                end=config_cerebro['endd'],\n",
    "                data_source='yahoo')"
   ]
  },
  {
   "cell_type": "code",
   "execution_count": null,
   "metadata": {},
   "outputs": [],
   "source": [
    "d_stat, d_res, d_ah = executeTest(d_stat, d_res, params, config_cerebro)"
   ]
  },
  {
   "cell_type": "code",
   "execution_count": null,
   "metadata": {},
   "outputs": [],
   "source": [
    "stat = getStatistic(d_stat)\n",
    "stat.to_csv(\"models_stat_2018_2021.csv\")\n",
    "stat.sort_values(by=['Sharp_Ratio'], ascending=False)"
   ]
  },
  {
   "cell_type": "code",
   "execution_count": null,
   "metadata": {},
   "outputs": [],
   "source": [
    "df = plotPorfolioReturns(d_res, None)\n",
    "df.to_csv('models_drawdown_2018_2021.csv')"
   ]
  },
  {
   "cell_type": "markdown",
   "metadata": {},
   "source": [
    "# TEST 2012-2016"
   ]
  },
  {
   "cell_type": "code",
   "execution_count": null,
   "metadata": {},
   "outputs": [],
   "source": [
    "config_cerebro = {\n",
    "    'assets':['MSFT', 'AMD', 'C', 'BA', 'AMZN', 'AAPL','MO', 'AEE', 'AIG', 'WY'],\n",
    "    'benchmark':'SPY',\n",
    "    'startd': datetime(2012, 1, 1),\n",
    "    'endd'  : datetime(2016, 12, 31),\n",
    "    'set_coc' : True,\n",
    "    'set_coo' : False,\n",
    "    'cash': 11000.0,\n",
    "    'stocks_df':None,\n",
    "    'benchmark_df':None\n",
    "}\n",
    "\n",
    "params = {\n",
    "    'DataCounter': 125,\n",
    "    'RebalanceDay': 22,\n",
    "    'reserveCash': 1000.0,\n",
    "    'printlog': 0,\n",
    "    'benchmarkUse': True,\n",
    "    'resetModel':False, \n",
    "    'resetModelStep':4,\n",
    "    'model':Model(),\n",
    "    'model_params':{\n",
    "        'model_n':'CLA',\n",
    "        'collectData':False,\n",
    "        'isEmsRet':True,\n",
    "        'isExpCov':True,\n",
    "        'isCleanWeight':False,\n",
    "        'upd_period': 22}\n",
    "}\n",
    "d_res = {}\n",
    "d_stat = {}\n",
    "config_cerebro['stocks_df'] = pdr.DataReader(config_cerebro['assets'], \n",
    "                start=config_cerebro['startd'],\n",
    "                end=config_cerebro['endd'],\n",
    "                data_source='yahoo')\n",
    "config_cerebro['benchmark_df'] = pdr.DataReader(config_cerebro['benchmark'], \n",
    "                start=config_cerebro['startd'],\n",
    "                end=config_cerebro['endd'],\n",
    "                data_source='yahoo')"
   ]
  },
  {
   "cell_type": "code",
   "execution_count": null,
   "metadata": {},
   "outputs": [],
   "source": [
    "d_stat, d_res, d_ah = executeTest(d_stat, d_res, params, config_cerebro)"
   ]
  },
  {
   "cell_type": "code",
   "execution_count": null,
   "metadata": {},
   "outputs": [],
   "source": [
    "stat = getStatistic(d_stat)\n",
    "stat.to_csv(\"models_stat_2012_2016.csv\")\n",
    "stat.sort_values(by=['Sharp_Ratio'], ascending=False)"
   ]
  },
  {
   "cell_type": "code",
   "execution_count": null,
   "metadata": {},
   "outputs": [],
   "source": [
    "df = plotPorfolioReturns(d_res, None)\n",
    "df.to_csv('models_drawdown_2012_2016.csv')"
   ]
  },
  {
   "cell_type": "markdown",
   "metadata": {},
   "source": [
    "# 2016-2021 \n",
    "SPY, TLT, GLD, IYR"
   ]
  },
  {
   "cell_type": "code",
   "execution_count": null,
   "metadata": {},
   "outputs": [],
   "source": [
    "config_cerebro = {\n",
    "    'assets':['SPY', 'TLT', 'GLD', 'RWO'],\n",
    "    'benchmark':'SPY',\n",
    "    'startd': datetime(2016, 1, 1),\n",
    "    'endd'  : datetime(2021, 12, 31),\n",
    "    'set_coc' : True,\n",
    "    'set_coo' : False,\n",
    "    'cash': 11000.0,\n",
    "    'stocks_df':None,\n",
    "    'benchmark_df':None\n",
    "}\n",
    "\n",
    "params = {\n",
    "    'DataCounter': 125,\n",
    "    'RebalanceDay': 22,\n",
    "    'reserveCash': 1000.0,\n",
    "    'printlog': 0,\n",
    "    'benchmarkUse': True,\n",
    "    'resetModel':False, \n",
    "    'resetModelStep':4,\n",
    "    'model':Model(),\n",
    "    'model_params':{\n",
    "        'model_n':'CLA',\n",
    "        'collectData':False,\n",
    "        'isEmsRet':True,\n",
    "        'isExpCov':True,\n",
    "        'isCleanWeight':False,\n",
    "        'upd_period': 22}\n",
    "}\n",
    "d_res = {}\n",
    "d_stat = {}\n",
    "config_cerebro['stocks_df'] = pdr.DataReader(config_cerebro['assets'], \n",
    "                start=config_cerebro['startd'],\n",
    "                end=config_cerebro['endd'],\n",
    "                data_source='yahoo')\n",
    "config_cerebro['benchmark_df'] = pdr.DataReader(config_cerebro['benchmark'], \n",
    "                start=config_cerebro['startd'],\n",
    "                end=config_cerebro['endd'],\n",
    "                data_source='yahoo')"
   ]
  },
  {
   "cell_type": "code",
   "execution_count": null,
   "metadata": {
    "tags": []
   },
   "outputs": [],
   "source": [
    "d_stat, d_res, d_ah = executeTest(d_stat, d_res, params, config_cerebro)"
   ]
  },
  {
   "cell_type": "code",
   "execution_count": null,
   "metadata": {},
   "outputs": [],
   "source": [
    "stat = getStatistic(d_stat)\n",
    "stat.to_csv(\"models_stat_2016_2021_etf.csv\")\n",
    "stat.sort_values(by=['Sharp_Ratio'], ascending=False)"
   ]
  },
  {
   "cell_type": "code",
   "execution_count": null,
   "metadata": {},
   "outputs": [],
   "source": [
    "df = plotPorfolioReturns(d_res, None)\n",
    "df.to_csv('models_drawdown_2016_2021_etf.csv')"
   ]
  },
  {
   "cell_type": "code",
   "execution_count": null,
   "metadata": {},
   "outputs": [],
   "source": [
    "ticker = ['SPY', 'TLT']#, 'GLD', 'RWO']\n",
    "history_range = {'start': datetime(2007, 1, 1), \n",
    "                 'end': datetime(2020, 10, 1)}\n",
    "\n",
    "stock = pdr.DataReader(ticker, \n",
    "                start=history_range['start'],\n",
    "                end=history_range['end'],\n",
    "                data_source='yahoo')\n",
    "stock.head()"
   ]
  },
  {
   "cell_type": "code",
   "execution_count": null,
   "metadata": {},
   "outputs": [],
   "source": [
    "config_cerebro = {\n",
    "    'assets':['SPY', 'TLT'],#, 'GLD', 'RWO'],\n",
    "    'benchmark':'SPY',\n",
    "    'startd': datetime(2007, 1, 1),\n",
    "    'endd'  : datetime(2021, 12, 31),\n",
    "    'set_coc' : True,\n",
    "    'set_coo' : False,\n",
    "    'cash': 11000.0,\n",
    "    'stocks_df':None,\n",
    "    'benchmark_df':None\n",
    "}\n",
    "\n",
    "params = {\n",
    "    'DataCounter': 125,\n",
    "    'RebalanceDay': 22,\n",
    "    'reserveCash': 1000.0,\n",
    "    'printlog': 0,\n",
    "    'benchmarkUse': True,\n",
    "    'resetModel':False, \n",
    "    'resetModelStep':4,\n",
    "    'model':Model(),\n",
    "    'model_params':{\n",
    "        'model_n':'CLA',\n",
    "        'collectData':False,\n",
    "        'isEmsRet':True,\n",
    "        'isExpCov':True,\n",
    "        'isCleanWeight':False,\n",
    "        'upd_period': 22}\n",
    "}\n",
    "d_res = {}\n",
    "d_stat = {}\n",
    "config_cerebro['stocks_df'] = pdr.DataReader(config_cerebro['assets'], \n",
    "                start=config_cerebro['startd'],\n",
    "                end=config_cerebro['endd'],\n",
    "                data_source='yahoo')\n",
    "config_cerebro['benchmark_df'] = pdr.DataReader(config_cerebro['benchmark'], \n",
    "                start=config_cerebro['startd'],\n",
    "                end=config_cerebro['endd'],\n",
    "                data_source='yahoo')"
   ]
  },
  {
   "cell_type": "code",
   "execution_count": null,
   "metadata": {},
   "outputs": [],
   "source": [
    "d_stat, d_res, d_ah = executeTest(d_stat, d_res, params, config_cerebro)"
   ]
  },
  {
   "cell_type": "code",
   "execution_count": null,
   "metadata": {},
   "outputs": [],
   "source": [
    "stat = getStatistic(d_stat)\n",
    "stat.sort_values(by=['Sharp_Ratio'], ascending=False)"
   ]
  },
  {
   "cell_type": "code",
   "execution_count": null,
   "metadata": {},
   "outputs": [],
   "source": []
  }
 ],
 "metadata": {
  "kernelspec": {
   "display_name": "Python 3.8.10 64-bit",
   "language": "python",
   "name": "python3"
  },
  "language_info": {
   "codemirror_mode": {
    "name": "ipython",
    "version": 3
   },
   "file_extension": ".py",
   "mimetype": "text/x-python",
   "name": "python",
   "nbconvert_exporter": "python",
   "pygments_lexer": "ipython3",
   "version": "3.8.10"
  },
  "metadata": {
   "interpreter": {
    "hash": "5247e85a1e23b609e25d96f19376a5981b35bbccc6a1725b2c56ffa7146dbf16"
   }
  },
  "vscode": {
   "interpreter": {
    "hash": "31f2aee4e71d21fbe5cf8b01ff0e069b9275f58929596ceb00d14d90e3e16cd6"
   }
  }
 },
 "nbformat": 4,
 "nbformat_minor": 2
}

{
 "cells": [
  {
   "cell_type": "code",
   "execution_count": 1,
   "metadata": {},
   "outputs": [
    {
     "name": "stderr",
     "output_type": "stream",
     "text": [
      "2022-09-18 18:06:06.648910: I tensorflow/core/platform/cpu_feature_guard.cc:193] This TensorFlow binary is optimized with oneAPI Deep Neural Network Library (oneDNN) to use the following CPU instructions in performance-critical operations:  AVX2 AVX512F FMA\n",
      "To enable them in other operations, rebuild TensorFlow with the appropriate compiler flags.\n",
      "2022-09-18 18:06:06.786190: W tensorflow/stream_executor/platform/default/dso_loader.cc:64] Could not load dynamic library 'libcudart.so.11.0'; dlerror: libcudart.so.11.0: cannot open shared object file: No such file or directory\n",
      "2022-09-18 18:06:06.786227: I tensorflow/stream_executor/cuda/cudart_stub.cc:29] Ignore above cudart dlerror if you do not have a GPU set up on your machine.\n",
      "2022-09-18 18:06:06.817215: E tensorflow/stream_executor/cuda/cuda_blas.cc:2981] Unable to register cuBLAS factory: Attempting to register factory for plugin cuBLAS when one has already been registered\n",
      "2022-09-18 18:06:07.583749: W tensorflow/stream_executor/platform/default/dso_loader.cc:64] Could not load dynamic library 'libnvinfer.so.7'; dlerror: libnvinfer.so.7: cannot open shared object file: No such file or directory\n",
      "2022-09-18 18:06:07.583851: W tensorflow/stream_executor/platform/default/dso_loader.cc:64] Could not load dynamic library 'libnvinfer_plugin.so.7'; dlerror: libnvinfer_plugin.so.7: cannot open shared object file: No such file or directory\n",
      "2022-09-18 18:06:07.583862: W tensorflow/compiler/tf2tensorrt/utils/py_utils.cc:38] TF-TRT Warning: Cannot dlopen some TensorRT libraries. If you would like to use Nvidia GPU with TensorRT, please make sure the missing libraries mentioned above are installed properly.\n"
     ]
    }
   ],
   "source": [
    "import yfinance as yf\n",
    "import numpy as np\n",
    "import pandas as pd\n",
    "import tensorflow as tf\n",
    "from tensorflow.keras.layers import LSTM, Flatten, Dense\n",
    "from tensorflow.keras.models import Sequential\n",
    "import tensorflow.keras.backend as K\n",
    "from tensorflow.keras.layers.experimental import preprocessing\n",
    "from risk_model import Model\n",
    "from datetime import datetime\n",
    "\n",
    "from pandas_datareader import data as pdr\n",
    "%matplotlib inline\n",
    "\n",
    "from absl import logging\n",
    "tf.get_logger().setLevel('ERROR')\n",
    "\n",
    "float_formatter = \"{:.4f}\".format\n",
    "np.set_printoptions(formatter={'float_kind':float_formatter})\n",
    "tf.random.set_seed(123)\n",
    "\n",
    "np.random.seed(123)\n",
    "yf.pdr_override()  # <== that's all it takes :-)\n",
    "\n",
    "\n",
    "very_small_float = 1.0 #0.000000001"
   ]
  },
  {
   "cell_type": "code",
   "execution_count": 2,
   "metadata": {},
   "outputs": [],
   "source": [
    "from bt_testcode import backtest, DynRebalance, get_name, plotAllocation, getStatistic, calc_portfolio_values\n",
    "from bt_testcode import plotPortfolioReturns, get_portfolio_values"
   ]
  },
  {
   "cell_type": "markdown",
   "metadata": {},
   "source": [
    "# Test Model"
   ]
  },
  {
   "cell_type": "code",
   "execution_count": 3,
   "metadata": {},
   "outputs": [
    {
     "name": "stdout",
     "output_type": "stream",
     "text": [
      "[*********************100%***********************]  28 of 28 completed\n"
     ]
    }
   ],
   "source": [
    "ticker = \"\"\"AXISBANK.NS\tBPCL.NS\tBRITANNIA.NS\tCIPLA.NS\tDRREDDY.NS\tEICHERMOT.NS\tGAIL.NS\tHDFCBANK.NS\tHINDALCO.NS\tHINDUNILVR.NS\tINFY.NS\tIOC.NS\tITC.NS\tM&M.NS\tMARICO.NS\tONGC.NS\tRELIANCE.NS\tSAIL.NS\tSBIN.NS\tSIEMENS.NS\tSUNPHARMA.NS\tTATACONSUM.NS\tTATAMOTORS.NS\tTATAPOWER.NS\tTATASTEEL.NS\tTITAN.NS VEDL.NS\tWIPRO.NS\"\"\".split()\n",
    "benchmark_index = \"^BSESN\"\n",
    "history_range = {'start': datetime(2000, 1, 1), \n",
    "                 'end': datetime(2022, 9, 30)}\n",
    "\n",
    "stock = pdr.DataReader(ticker, \n",
    "                start=history_range['start'],\n",
    "                end=history_range['end'],\n",
    "                data_source='yahoo')"
   ]
  },
  {
   "cell_type": "code",
   "execution_count": 4,
   "metadata": {},
   "outputs": [
    {
     "data": {
      "text/html": [
       "<div>\n",
       "<style scoped>\n",
       "    .dataframe tbody tr th:only-of-type {\n",
       "        vertical-align: middle;\n",
       "    }\n",
       "\n",
       "    .dataframe tbody tr th {\n",
       "        vertical-align: top;\n",
       "    }\n",
       "\n",
       "    .dataframe thead th {\n",
       "        text-align: right;\n",
       "    }\n",
       "</style>\n",
       "<table border=\"1\" class=\"dataframe\">\n",
       "  <thead>\n",
       "    <tr style=\"text-align: right;\">\n",
       "      <th></th>\n",
       "      <th>AXISBANK.NS</th>\n",
       "      <th>BPCL.NS</th>\n",
       "      <th>BRITANNIA.NS</th>\n",
       "      <th>CIPLA.NS</th>\n",
       "      <th>DRREDDY.NS</th>\n",
       "      <th>EICHERMOT.NS</th>\n",
       "      <th>GAIL.NS</th>\n",
       "      <th>HDFCBANK.NS</th>\n",
       "      <th>HINDALCO.NS</th>\n",
       "      <th>HINDUNILVR.NS</th>\n",
       "      <th>...</th>\n",
       "      <th>SBIN.NS</th>\n",
       "      <th>SIEMENS.NS</th>\n",
       "      <th>SUNPHARMA.NS</th>\n",
       "      <th>TATACONSUM.NS</th>\n",
       "      <th>TATAMOTORS.NS</th>\n",
       "      <th>TATAPOWER.NS</th>\n",
       "      <th>TATASTEEL.NS</th>\n",
       "      <th>TITAN.NS</th>\n",
       "      <th>VEDL.NS</th>\n",
       "      <th>WIPRO.NS</th>\n",
       "    </tr>\n",
       "  </thead>\n",
       "  <tbody>\n",
       "    <tr>\n",
       "      <th>0</th>\n",
       "      <td>5.18</td>\n",
       "      <td>33.270832</td>\n",
       "      <td>75.690002</td>\n",
       "      <td>116.587997</td>\n",
       "      <td>377.062500</td>\n",
       "      <td>4.885</td>\n",
       "      <td>8.587504</td>\n",
       "      <td>17.000000</td>\n",
       "      <td>73.833130</td>\n",
       "      <td>230.755005</td>\n",
       "      <td>...</td>\n",
       "      <td>22.988886</td>\n",
       "      <td>54.494999</td>\n",
       "      <td>14.214153</td>\n",
       "      <td>56.450001</td>\n",
       "      <td>41.535931</td>\n",
       "      <td>7.406506</td>\n",
       "      <td>8.559305</td>\n",
       "      <td>7.7850</td>\n",
       "      <td>2.90875</td>\n",
       "      <td>102.157501</td>\n",
       "    </tr>\n",
       "    <tr>\n",
       "      <th>1</th>\n",
       "      <td>5.38</td>\n",
       "      <td>30.875000</td>\n",
       "      <td>75.455002</td>\n",
       "      <td>117.220001</td>\n",
       "      <td>407.237488</td>\n",
       "      <td>5.140</td>\n",
       "      <td>8.293754</td>\n",
       "      <td>17.379999</td>\n",
       "      <td>76.633423</td>\n",
       "      <td>228.104996</td>\n",
       "      <td>...</td>\n",
       "      <td>24.446625</td>\n",
       "      <td>54.654999</td>\n",
       "      <td>14.023603</td>\n",
       "      <td>55.090000</td>\n",
       "      <td>39.897491</td>\n",
       "      <td>7.420981</td>\n",
       "      <td>8.466666</td>\n",
       "      <td>7.3700</td>\n",
       "      <td>2.86750</td>\n",
       "      <td>110.330627</td>\n",
       "    </tr>\n",
       "    <tr>\n",
       "      <th>2</th>\n",
       "      <td>5.24</td>\n",
       "      <td>29.995832</td>\n",
       "      <td>73.529999</td>\n",
       "      <td>114.804001</td>\n",
       "      <td>392.012512</td>\n",
       "      <td>5.555</td>\n",
       "      <td>7.900003</td>\n",
       "      <td>16.695000</td>\n",
       "      <td>82.761711</td>\n",
       "      <td>219.990005</td>\n",
       "      <td>...</td>\n",
       "      <td>23.441774</td>\n",
       "      <td>52.250000</td>\n",
       "      <td>13.531350</td>\n",
       "      <td>52.794998</td>\n",
       "      <td>40.865227</td>\n",
       "      <td>7.565734</td>\n",
       "      <td>8.789500</td>\n",
       "      <td>6.9200</td>\n",
       "      <td>2.85000</td>\n",
       "      <td>112.128754</td>\n",
       "    </tr>\n",
       "    <tr>\n",
       "      <th>3</th>\n",
       "      <td>5.11</td>\n",
       "      <td>31.691666</td>\n",
       "      <td>78.565002</td>\n",
       "      <td>108.468002</td>\n",
       "      <td>415.387512</td>\n",
       "      <td>6.000</td>\n",
       "      <td>8.118754</td>\n",
       "      <td>16.830000</td>\n",
       "      <td>89.238976</td>\n",
       "      <td>228.820007</td>\n",
       "      <td>...</td>\n",
       "      <td>24.625893</td>\n",
       "      <td>53.000000</td>\n",
       "      <td>13.518182</td>\n",
       "      <td>54.560001</td>\n",
       "      <td>42.561157</td>\n",
       "      <td>7.802163</td>\n",
       "      <td>9.446396</td>\n",
       "      <td>7.4750</td>\n",
       "      <td>2.98250</td>\n",
       "      <td>109.959381</td>\n",
       "    </tr>\n",
       "    <tr>\n",
       "      <th>4</th>\n",
       "      <td>4.86</td>\n",
       "      <td>31.654165</td>\n",
       "      <td>84.849998</td>\n",
       "      <td>99.804001</td>\n",
       "      <td>382.274994</td>\n",
       "      <td>6.465</td>\n",
       "      <td>7.831253</td>\n",
       "      <td>16.834999</td>\n",
       "      <td>93.196831</td>\n",
       "      <td>241.294998</td>\n",
       "      <td>...</td>\n",
       "      <td>25.786425</td>\n",
       "      <td>48.779999</td>\n",
       "      <td>12.436851</td>\n",
       "      <td>58.910000</td>\n",
       "      <td>45.972179</td>\n",
       "      <td>7.787688</td>\n",
       "      <td>9.654133</td>\n",
       "      <td>7.3175</td>\n",
       "      <td>2.91250</td>\n",
       "      <td>101.163757</td>\n",
       "    </tr>\n",
       "  </tbody>\n",
       "</table>\n",
       "<p>5 rows × 28 columns</p>\n",
       "</div>"
      ],
      "text/plain": [
       "   AXISBANK.NS    BPCL.NS  BRITANNIA.NS    CIPLA.NS  DRREDDY.NS  EICHERMOT.NS  \\\n",
       "0         5.18  33.270832     75.690002  116.587997  377.062500         4.885   \n",
       "1         5.38  30.875000     75.455002  117.220001  407.237488         5.140   \n",
       "2         5.24  29.995832     73.529999  114.804001  392.012512         5.555   \n",
       "3         5.11  31.691666     78.565002  108.468002  415.387512         6.000   \n",
       "4         4.86  31.654165     84.849998   99.804001  382.274994         6.465   \n",
       "\n",
       "    GAIL.NS  HDFCBANK.NS  HINDALCO.NS  HINDUNILVR.NS  ...    SBIN.NS  \\\n",
       "0  8.587504    17.000000    73.833130     230.755005  ...  22.988886   \n",
       "1  8.293754    17.379999    76.633423     228.104996  ...  24.446625   \n",
       "2  7.900003    16.695000    82.761711     219.990005  ...  23.441774   \n",
       "3  8.118754    16.830000    89.238976     228.820007  ...  24.625893   \n",
       "4  7.831253    16.834999    93.196831     241.294998  ...  25.786425   \n",
       "\n",
       "   SIEMENS.NS  SUNPHARMA.NS  TATACONSUM.NS  TATAMOTORS.NS  TATAPOWER.NS  \\\n",
       "0   54.494999     14.214153      56.450001      41.535931      7.406506   \n",
       "1   54.654999     14.023603      55.090000      39.897491      7.420981   \n",
       "2   52.250000     13.531350      52.794998      40.865227      7.565734   \n",
       "3   53.000000     13.518182      54.560001      42.561157      7.802163   \n",
       "4   48.779999     12.436851      58.910000      45.972179      7.787688   \n",
       "\n",
       "   TATASTEEL.NS  TITAN.NS  VEDL.NS    WIPRO.NS  \n",
       "0      8.559305    7.7850  2.90875  102.157501  \n",
       "1      8.466666    7.3700  2.86750  110.330627  \n",
       "2      8.789500    6.9200  2.85000  112.128754  \n",
       "3      9.446396    7.4750  2.98250  109.959381  \n",
       "4      9.654133    7.3175  2.91250  101.163757  \n",
       "\n",
       "[5 rows x 28 columns]"
      ]
     },
     "execution_count": 4,
     "metadata": {},
     "output_type": "execute_result"
    }
   ],
   "source": [
    "stock_close = stock.iloc[:]['Close'].reset_index(drop=True).fillna(very_small_float)\n",
    "stock_close.head()"
   ]
  },
  {
   "cell_type": "code",
   "execution_count": 5,
   "metadata": {
    "tags": []
   },
   "outputs": [
    {
     "name": "stderr",
     "output_type": "stream",
     "text": [
      "2022-09-18 18:06:12.812313: W tensorflow/stream_executor/platform/default/dso_loader.cc:64] Could not load dynamic library 'libcuda.so.1'; dlerror: libcuda.so.1: cannot open shared object file: No such file or directory\n",
      "2022-09-18 18:06:12.812349: W tensorflow/stream_executor/cuda/cuda_driver.cc:263] failed call to cuInit: UNKNOWN ERROR (303)\n",
      "2022-09-18 18:06:12.812376: I tensorflow/stream_executor/cuda/cuda_diagnostics.cc:156] kernel driver does not appear to be running on this host (codespaces-80aa1a): /proc/driver/nvidia/version does not exist\n",
      "2022-09-18 18:06:12.812776: I tensorflow/core/platform/cpu_feature_guard.cc:193] This TensorFlow binary is optimized with oneAPI Deep Neural Network Library (oneDNN) to use the following CPU instructions in performance-critical operations:  AVX2 AVX512F FMA\n",
      "To enable them in other operations, rebuild TensorFlow with the appropriate compiler flags.\n"
     ]
    },
    {
     "data": {
      "application/vnd.jupyter.widget-view+json": {
       "model_id": "f467ae54af464078b1f9be76fd63ad75",
       "version_major": 2,
       "version_minor": 0
      },
      "text/plain": [
       "0epoch [00:00, ?epoch/s]"
      ]
     },
     "metadata": {},
     "output_type": "display_data"
    },
    {
     "data": {
      "application/vnd.jupyter.widget-view+json": {
       "model_id": "bb677fa0be35487e8b319ae4fa0919ca",
       "version_major": 2,
       "version_minor": 0
      },
      "text/plain": [
       "0batch [00:00, ?batch/s]"
      ]
     },
     "metadata": {},
     "output_type": "display_data"
    }
   ],
   "source": [
    "import matplotlib.pyplot as plt\n",
    "rnd = 8\n",
    "tf.random.set_seed(rnd)\n",
    "np.random.seed(rnd)\n",
    "\n",
    "param={}\n",
    "param ={'model_params':\n",
    "    {'model_n':'LSTM',\n",
    "    'epochs':10}}\n",
    "\n",
    "m = Model()\n",
    "alloc = m.get_allocations(stock_close.values, **param['model_params'])\n"
   ]
  },
  {
   "cell_type": "code",
   "execution_count": 6,
   "metadata": {},
   "outputs": [
    {
     "name": "stderr",
     "output_type": "stream",
     "text": [
      "/home/codespace/.python/current/lib/python3.10/site-packages/riskfolio/PlotFunctions.py:569: FutureWarning: The frame.append method is deprecated and will be removed from pandas in a future version. Use pandas.concat instead.\n",
      "  sizes2 = sizes2.append(item)\n"
     ]
    },
    {
     "ename": "ZeroDivisionError",
     "evalue": "integer division or modulo by zero",
     "output_type": "error",
     "traceback": [
      "\u001b[0;31m---------------------------------------------------------------------------\u001b[0m",
      "\u001b[0;31mZeroDivisionError\u001b[0m                         Traceback (most recent call last)",
      "\u001b[1;32m/workspaces/BTP/Final/test_model_lstm.ipynb Cell 7\u001b[0m in \u001b[0;36m<cell line: 3>\u001b[0;34m()\u001b[0m\n\u001b[1;32m      <a href='vscode-notebook-cell://codespaces%2Bdivyanshu-info-btp-95qgrgp67563xrvg/workspaces/BTP/Final/test_model_lstm.ipynb#W6sdnNjb2RlLXJlbW90ZQ%3D%3D?line=0'>1</a>\u001b[0m \u001b[39mimport\u001b[39;00m \u001b[39mriskfolio\u001b[39;00m \u001b[39mas\u001b[39;00m \u001b[39mrp\u001b[39;00m\n\u001b[1;32m      <a href='vscode-notebook-cell://codespaces%2Bdivyanshu-info-btp-95qgrgp67563xrvg/workspaces/BTP/Final/test_model_lstm.ipynb#W6sdnNjb2RlLXJlbW90ZQ%3D%3D?line=1'>2</a>\u001b[0m df \u001b[39m=\u001b[39m pd\u001b[39m.\u001b[39mDataFrame(alloc, index\u001b[39m=\u001b[39mticker)\n\u001b[0;32m----> <a href='vscode-notebook-cell://codespaces%2Bdivyanshu-info-btp-95qgrgp67563xrvg/workspaces/BTP/Final/test_model_lstm.ipynb#W6sdnNjb2RlLXJlbW90ZQ%3D%3D?line=2'>3</a>\u001b[0m ax \u001b[39m=\u001b[39m rp\u001b[39m.\u001b[39;49mplot_pie(w\u001b[39m=\u001b[39;49mdf, title\u001b[39m=\u001b[39;49m\u001b[39m'\u001b[39;49m\u001b[39mSharpe Mean Variance\u001b[39;49m\u001b[39m'\u001b[39;49m, others\u001b[39m=\u001b[39;49m\u001b[39m0.05\u001b[39;49m, nrow\u001b[39m=\u001b[39;49m\u001b[39m25\u001b[39;49m, cmap\u001b[39m=\u001b[39;49m\u001b[39m\"\u001b[39;49m\u001b[39mtab20\u001b[39;49m\u001b[39m\"\u001b[39;49m,\n\u001b[1;32m      <a href='vscode-notebook-cell://codespaces%2Bdivyanshu-info-btp-95qgrgp67563xrvg/workspaces/BTP/Final/test_model_lstm.ipynb#W6sdnNjb2RlLXJlbW90ZQ%3D%3D?line=3'>4</a>\u001b[0m                  height\u001b[39m=\u001b[39;49m\u001b[39m6\u001b[39;49m, width\u001b[39m=\u001b[39;49m\u001b[39m10\u001b[39;49m, ax\u001b[39m=\u001b[39;49m\u001b[39mNone\u001b[39;49;00m)\n",
      "File \u001b[0;32m~/.python/current/lib/python3.10/site-packages/riskfolio/PlotFunctions.py:612\u001b[0m, in \u001b[0;36mplot_pie\u001b[0;34m(w, title, others, nrow, cmap, height, width, ax)\u001b[0m\n\u001b[1;32m    608\u001b[0m ax\u001b[39m.\u001b[39maxis(\u001b[39m\"\u001b[39m\u001b[39mequal\u001b[39m\u001b[39m\"\u001b[39m)\n\u001b[1;32m    610\u001b[0m n \u001b[39m=\u001b[39m \u001b[39mint\u001b[39m(np\u001b[39m.\u001b[39mceil(l \u001b[39m/\u001b[39m nrow))\n\u001b[0;32m--> 612\u001b[0m ax\u001b[39m.\u001b[39;49mlegend(wedges, labels, loc\u001b[39m=\u001b[39;49m\u001b[39m\"\u001b[39;49m\u001b[39mcenter left\u001b[39;49m\u001b[39m\"\u001b[39;49m, bbox_to_anchor\u001b[39m=\u001b[39;49m(\u001b[39m1\u001b[39;49m, \u001b[39m0.5\u001b[39;49m), ncol\u001b[39m=\u001b[39;49mn)\n\u001b[1;32m    614\u001b[0m bbox_props \u001b[39m=\u001b[39m \u001b[39mdict\u001b[39m(boxstyle\u001b[39m=\u001b[39m\u001b[39m\"\u001b[39m\u001b[39msquare,pad=0.3\u001b[39m\u001b[39m\"\u001b[39m, fc\u001b[39m=\u001b[39m\u001b[39m\"\u001b[39m\u001b[39mw\u001b[39m\u001b[39m\"\u001b[39m, ec\u001b[39m=\u001b[39m\u001b[39m\"\u001b[39m\u001b[39mk\u001b[39m\u001b[39m\"\u001b[39m, lw\u001b[39m=\u001b[39m\u001b[39m0.72\u001b[39m)\n\u001b[1;32m    615\u001b[0m kw \u001b[39m=\u001b[39m \u001b[39mdict\u001b[39m(\n\u001b[1;32m    616\u001b[0m     xycoords\u001b[39m=\u001b[39m\u001b[39m\"\u001b[39m\u001b[39mdata\u001b[39m\u001b[39m\"\u001b[39m,\n\u001b[1;32m    617\u001b[0m     textcoords\u001b[39m=\u001b[39m\u001b[39m\"\u001b[39m\u001b[39mdata\u001b[39m\u001b[39m\"\u001b[39m,\n\u001b[0;32m   (...)\u001b[0m\n\u001b[1;32m    621\u001b[0m     va\u001b[39m=\u001b[39m\u001b[39m\"\u001b[39m\u001b[39mcenter\u001b[39m\u001b[39m\"\u001b[39m,\n\u001b[1;32m    622\u001b[0m )\n",
      "File \u001b[0;32m~/.python/current/lib/python3.10/site-packages/matplotlib/axes/_axes.py:305\u001b[0m, in \u001b[0;36mAxes.legend\u001b[0;34m(self, *args, **kwargs)\u001b[0m\n\u001b[1;32m    303\u001b[0m \u001b[39mif\u001b[39;00m \u001b[39mlen\u001b[39m(extra_args):\n\u001b[1;32m    304\u001b[0m     \u001b[39mraise\u001b[39;00m \u001b[39mTypeError\u001b[39;00m(\u001b[39m'\u001b[39m\u001b[39mlegend only accepts two non-keyword arguments\u001b[39m\u001b[39m'\u001b[39m)\n\u001b[0;32m--> 305\u001b[0m \u001b[39mself\u001b[39m\u001b[39m.\u001b[39mlegend_ \u001b[39m=\u001b[39m mlegend\u001b[39m.\u001b[39;49mLegend(\u001b[39mself\u001b[39;49m, handles, labels, \u001b[39m*\u001b[39;49m\u001b[39m*\u001b[39;49mkwargs)\n\u001b[1;32m    306\u001b[0m \u001b[39mself\u001b[39m\u001b[39m.\u001b[39mlegend_\u001b[39m.\u001b[39m_remove_method \u001b[39m=\u001b[39m \u001b[39mself\u001b[39m\u001b[39m.\u001b[39m_remove_legend\n\u001b[1;32m    307\u001b[0m \u001b[39mreturn\u001b[39;00m \u001b[39mself\u001b[39m\u001b[39m.\u001b[39mlegend_\n",
      "File \u001b[0;32m~/.python/current/lib/python3.10/site-packages/matplotlib/legend.py:499\u001b[0m, in \u001b[0;36mLegend.__init__\u001b[0;34m(self, parent, handles, labels, loc, numpoints, markerscale, markerfirst, scatterpoints, scatteryoffsets, prop, fontsize, labelcolor, borderpad, labelspacing, handlelength, handleheight, handletextpad, borderaxespad, columnspacing, ncol, mode, fancybox, shadow, title, title_fontsize, framealpha, edgecolor, facecolor, bbox_to_anchor, bbox_transform, frameon, handler_map, title_fontproperties)\u001b[0m\n\u001b[1;32m    496\u001b[0m \u001b[39mself\u001b[39m\u001b[39m.\u001b[39m_set_artist_props(\u001b[39mself\u001b[39m\u001b[39m.\u001b[39mlegendPatch)\n\u001b[1;32m    498\u001b[0m \u001b[39m# init with null renderer\u001b[39;00m\n\u001b[0;32m--> 499\u001b[0m \u001b[39mself\u001b[39;49m\u001b[39m.\u001b[39;49m_init_legend_box(handles, labels, markerfirst)\n\u001b[1;32m    501\u001b[0m tmp \u001b[39m=\u001b[39m \u001b[39mself\u001b[39m\u001b[39m.\u001b[39m_loc_used_default\n\u001b[1;32m    502\u001b[0m \u001b[39mself\u001b[39m\u001b[39m.\u001b[39m_set_loc(loc)\n",
      "File \u001b[0;32m~/.python/current/lib/python3.10/site-packages/matplotlib/legend.py:789\u001b[0m, in \u001b[0;36mLegend._init_legend_box\u001b[0;34m(self, handles, labels, markerfirst)\u001b[0m\n\u001b[1;32m    784\u001b[0m \u001b[39mif\u001b[39;00m handles_and_labels:\n\u001b[1;32m    785\u001b[0m     \u001b[39m# We calculate number of rows in each column. The first\u001b[39;00m\n\u001b[1;32m    786\u001b[0m     \u001b[39m# (num_largecol) columns will have (nrows+1) rows, and remaining\u001b[39;00m\n\u001b[1;32m    787\u001b[0m     \u001b[39m# (num_smallcol) columns will have (nrows) rows.\u001b[39;00m\n\u001b[1;32m    788\u001b[0m     ncol \u001b[39m=\u001b[39m \u001b[39mmin\u001b[39m(\u001b[39mself\u001b[39m\u001b[39m.\u001b[39m_ncol, \u001b[39mlen\u001b[39m(handles_and_labels))\n\u001b[0;32m--> 789\u001b[0m     nrows, num_largecol \u001b[39m=\u001b[39m \u001b[39mdivmod\u001b[39;49m(\u001b[39mlen\u001b[39;49m(handles_and_labels), ncol)\n\u001b[1;32m    790\u001b[0m     num_smallcol \u001b[39m=\u001b[39m ncol \u001b[39m-\u001b[39m num_largecol\n\u001b[1;32m    791\u001b[0m     \u001b[39m# starting index of each column and number of rows in it.\u001b[39;00m\n",
      "\u001b[0;31mZeroDivisionError\u001b[0m: integer division or modulo by zero"
     ]
    },
    {
     "data": {
      "image/png": "[encoded data removed]",
      "text/plain": [
       "<Figure size 1000x600 with 1 Axes>"
      ]
     },
     "metadata": {},
     "output_type": "display_data"
    }
   ],
   "source": [
    "import riskfolio as rp\n",
    "df = pd.DataFrame(alloc, index=ticker)\n",
    "ax = rp.plot_pie(w=df, title='Sharpe Mean Variance', others=0.05, nrow=25, cmap=\"tab20\",\n",
    "                 height=6, width=10, ax=None)"
   ]
  },
  {
   "cell_type": "code",
   "execution_count": null,
   "metadata": {},
   "outputs": [
    {
     "ename": "",
     "evalue": "",
     "output_type": "error",
     "traceback": [
      "\u001b[1;31mThe kernel failed to start due to the missing module 'prompt_toolkit.formatted_text'. Consider installing this module.\n",
      "\u001b[1;31mClick <a href='https://aka.ms/kernelFailuresMissingModule'>here</a> for more info."
     ]
    }
   ],
   "source": [
    "Y = stock_close.pct_change().dropna()\n",
    "display(Y.head())\n",
    "port = rp.Portfolio(returns=Y)\n",
    "method_mu = 'hist'\n",
    "# Method to estimate covariance matrix based on historical data.\n",
    "method_cov = 'hist'\n",
    "\n",
    "port.assets_stats(method_mu=method_mu, method_cov=method_cov, d=0.94)\n",
    "\n",
    "ax = rp.plot_risk_con(w=df, cov=port.cov, returns=Y, rm='MV',\n",
    "                      rf=0, alpha=0.05, color=\"tab:blue\", height=6,\n",
    "                      width=10, t_factor=252, ax=None)\n"
   ]
  },
  {
   "cell_type": "code",
   "execution_count": null,
   "metadata": {},
   "outputs": [
    {
     "ename": "",
     "evalue": "",
     "output_type": "error",
     "traceback": [
      "\u001b[1;31mThe kernel failed to start due to the missing module 'prompt_toolkit.formatted_text'. Consider installing this module.\n",
      "\u001b[1;31mClick <a href='https://aka.ms/kernelFailuresMissingModule'>here</a> for more info."
     ]
    }
   ],
   "source": [
    "cagr_graph = rp.plot_series(returns=Y, w=df, cmap='tab20', height=6, width=10,\n",
    "                            ax=None)\n"
   ]
  },
  {
   "cell_type": "code",
   "execution_count": null,
   "metadata": {},
   "outputs": [
    {
     "ename": "",
     "evalue": "",
     "output_type": "error",
     "traceback": [
      "\u001b[1;31mThe kernel failed to start due to the missing module 'prompt_toolkit.formatted_text'. Consider installing this module.\n",
      "\u001b[1;31mClick <a href='https://aka.ms/kernelFailuresMissingModule'>here</a> for more info."
     ]
    }
   ],
   "source": [
    "calc_portfolio_values(alloc, stock_close)"
   ]
  },
  {
   "cell_type": "code",
   "execution_count": null,
   "metadata": {},
   "outputs": [
    {
     "ename": "",
     "evalue": "",
     "output_type": "error",
     "traceback": [
      "\u001b[1;31mThe kernel failed to start due to the missing module 'prompt_toolkit.formatted_text'. Consider installing this module.\n",
      "\u001b[1;31mClick <a href='https://aka.ms/kernelFailuresMissingModule'>here</a> for more info."
     ]
    }
   ],
   "source": [
    "index = stock.groupby(\n",
    "    [stock.index.year, stock.index.month]).tail(1).index\n",
    "index_2 = stock.index\n",
    "\n",
    "# Quarterly Dates\n",
    "index = [x for x in index if float(x.month) % 3.0 == 0]\n",
    "\n",
    "# Dates where the strategy will be backtested\n",
    "index_ = [index_2.get_loc(x) for x in index if index_2.get_loc(x) > 1000]\n",
    "print(index_)\n"
   ]
  },
  {
   "cell_type": "code",
   "execution_count": null,
   "metadata": {},
   "outputs": [
    {
     "ename": "",
     "evalue": "",
     "output_type": "error",
     "traceback": [
      "\u001b[1;31mThe kernel failed to start due to the missing module 'prompt_toolkit.formatted_text'. Consider installing this module.\n",
      "\u001b[1;31mClick <a href='https://aka.ms/kernelFailuresMissingModule'>here</a> for more info."
     ]
    }
   ],
   "source": [
    "\n",
    "from IPython.display import clear_output\n",
    "\n",
    "\n",
    "from tqdm.notebook import trange, tqdm\n",
    "n = index_[:-1]\n",
    "\n",
    "def getReturnFromAlloc(n):\n",
    "    r_list = []\n",
    "    param={}\n",
    "    param ={'model_params':\n",
    "        {'model_n':'LSTM',\n",
    "        'epochs':100}}\n",
    "    print('ret, std, sharp')\n",
    "    for i in tqdm(n):\n",
    "        stock_close = stock.iloc[i:i+125]['Close'].reset_index(drop=True).fillna(very_small_float)\n",
    "        m = Model()\n",
    "        alloc = m.get_allocations(stock_close.values, **param['model_params'])\n",
    "        r_list.append((get_portfolio_values(alloc, stock_close)))\n",
    "        #print(r_list[-1])\n",
    "        #clear_output(wait=True)\n",
    "    return r_list\n",
    "\n",
    "rl = getReturnFromAlloc(n)\n",
    "print(r1)\n",
    "sharp = []\n",
    "for r, s, sp in rl:\n",
    "    print(\"{:.4f}  {:.4f}  {:.4f}\".format(r,s,sp))\n",
    "    sharp.append(sp)\n"
   ]
  },
  {
   "cell_type": "code",
   "execution_count": null,
   "metadata": {},
   "outputs": [
    {
     "ename": "",
     "evalue": "",
     "output_type": "error",
     "traceback": [
      "\u001b[1;31mThe kernel failed to start due to the missing module 'prompt_toolkit.formatted_text'. Consider installing this module.\n",
      "\u001b[1;31mClick <a href='https://aka.ms/kernelFailuresMissingModule'>here</a> for more info."
     ]
    }
   ],
   "source": [
    "############################################################\n",
    "# Building the Asset Allocation Class\n",
    "############################################################\n",
    "\n",
    "class AssetAllocation(bt.Strategy):\n",
    "\n",
    "    def __init__(self):\n",
    "\n",
    "        j = 0\n",
    "        for i in assets:\n",
    "            setattr(self, i, self.datas[j])\n",
    "            j += 1\n",
    "\n",
    "        self.counter = 0\n",
    "\n",
    "    def next(self):\n",
    "        if self.counter in weights.index.tolist():\n",
    "            for i in assets:\n",
    "                w = weights.loc[self.counter, i]\n",
    "                self.order_target_percent(getattr(self, i), target=w)\n",
    "        self.counter += 1\n"
   ]
  },
  {
   "cell_type": "code",
   "execution_count": null,
   "metadata": {},
   "outputs": [
    {
     "ename": "",
     "evalue": "",
     "output_type": "error",
     "traceback": [
      "\u001b[1;31mThe kernel failed to start due to the missing module 'prompt_toolkit.formatted_text'. Consider installing this module.\n",
      "\u001b[1;31mClick <a href='https://aka.ms/kernelFailuresMissingModule'>here</a> for more info."
     ]
    }
   ],
   "source": [
    "############################################################\n",
    "# Backtesting Mean Variance Strategy\n",
    "############################################################\n",
    "\n",
    "assets = returns.columns.tolist()\n",
    "weights = models['MV']\n",
    "\n",
    "dd, cagr, sharpe = backtest(assets_prices,\n",
    "                            AssetAllocation,\n",
    "                            start=start,\n",
    "                            end=end,\n",
    "                            plot=True)\n"
   ]
  },
  {
   "cell_type": "code",
   "execution_count": null,
   "metadata": {},
   "outputs": [
    {
     "ename": "",
     "evalue": "",
     "output_type": "error",
     "traceback": [
      "\u001b[1;31mThe kernel failed to start due to the missing module 'prompt_toolkit.formatted_text'. Consider installing this module.\n",
      "\u001b[1;31mClick <a href='https://aka.ms/kernelFailuresMissingModule'>here</a> for more info."
     ]
    }
   ],
   "source": [
    "config_cerebro = {\n",
    "    'assets': ticker,\n",
    "    #'assets':['SPY', 'TLT', 'GLD', 'BA', 'SLV', 'WYNN','MO', 'AEE', 'AIG', 'WY'],\n",
    "    'benchmark': benchmark_index,\n",
    "    'startd': history_range['start'],\n",
    "    'endd': history_range['end'],\n",
    "    'set_coc' : True,\n",
    "    'set_coo' : False,\n",
    "    'cash': 1000000.0,\n",
    "    'stocks_df':None,\n",
    "    'benchmark_df':None\n",
    "}\n",
    "\n",
    "params = {\n",
    "    'DataCounter': 125,\n",
    "    'RebalanceDay': 22,\n",
    "    'reserveCash': 1000.0,\n",
    "    'printlog': 0,\n",
    "    'benchmarkUse': True,\n",
    "    'resetModel':False, \n",
    "    'resetModelStep':4,\n",
    "    'model':Model(),\n",
    "    'model_params':{\n",
    "        'model_n':'LSTM',\n",
    "        'collectData':False,\n",
    "        'epochs':100}\n",
    "}\n",
    "d_res = {}\n",
    "d_stat = {}\n",
    "\n",
    "config_cerebro['stocks_df'] = pdr.DataReader(config_cerebro['assets'], \n",
    "                start=config_cerebro['startd'],\n",
    "                end=config_cerebro['endd'],\n",
    "                data_source='yahoo')\n",
    "config_cerebro['benchmark_df'] = pdr.DataReader(config_cerebro['benchmark'], \n",
    "                start=config_cerebro['startd'],\n",
    "                end=config_cerebro['endd'],\n",
    "                data_source='yahoo')"
   ]
  },
  {
   "cell_type": "code",
   "execution_count": null,
   "metadata": {},
   "outputs": [
    {
     "ename": "",
     "evalue": "",
     "output_type": "error",
     "traceback": [
      "\u001b[1;31mThe kernel failed to start due to the missing module 'prompt_toolkit.formatted_text'. Consider installing this module.\n",
      "\u001b[1;31mClick <a href='https://aka.ms/kernelFailuresMissingModule'>here</a> for more info."
     ]
    }
   ],
   "source": [
    "tf.keras.utils.plot_model(m.getModel(), show_shapes=True)\n"
   ]
  },
  {
   "cell_type": "code",
   "execution_count": null,
   "metadata": {
    "tags": []
   },
   "outputs": [
    {
     "ename": "",
     "evalue": "",
     "output_type": "error",
     "traceback": [
      "\u001b[1;31mThe kernel failed to start due to the missing module 'prompt_toolkit.formatted_text'. Consider installing this module.\n",
      "\u001b[1;31mClick <a href='https://aka.ms/kernelFailuresMissingModule'>here</a> for more info."
     ]
    }
   ],
   "source": [
    "import matplotlib.pyplot as plt\n",
    "params['model'] = Model()\n",
    "params['resetModel'] = False\n",
    "%matplotlib inline\n",
    "\n",
    "plt.rcParams[\"figure.figsize\"] = (10, 6)  # (w, h)\n",
    "plt.plot()\n",
    "d_stat[get_name(params)], d_res[get_name(params)], ah = backtest(config_cerebro, DynRebalance, m_name=get_name(params), plot=False, **params)\n",
    "display(d_stat[get_name(params)])\n",
    "d_res[get_name(params)].plot()"
   ]
  }
 ],
 "metadata": {
  "kernelspec": {
   "display_name": "Python 3.10.4 64-bit",
   "language": "python",
   "name": "python3"
  },
  "language_info": {
   "codemirror_mode": {
    "name": "ipython",
    "version": 3
   },
   "file_extension": ".py",
   "mimetype": "text/x-python",
   "name": "python",
   "nbconvert_exporter": "python",
   "pygments_lexer": "ipython3",
   "version": "3.10.4"
  },
  "vscode": {
   "interpreter": {
    "hash": "3ad933181bd8a04b432d3370b9dc3b0662ad032c4dfaa4e4f1596c548f763858"
   }
  }
 },
 "nbformat": 4,
 "nbformat_minor": 2
}
